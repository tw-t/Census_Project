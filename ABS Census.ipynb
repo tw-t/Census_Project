{
 "cells": [
  {
   "attachments": {},
   "cell_type": "markdown",
   "id": "b7036727-1dee-4a9f-9e02-fdcd9dd9a557",
   "metadata": {},
   "source": [
    "# Predicting Low-Income Households in Selected Areas\n",
    "\n",
    "This project aims to develop predictive models to estimate the number of low-income households in selected areas of Australia using Australian Bureau of Statistics (ABS) census data. These models will provide valuable insights for policymakers, urban planners, and social services to better understand and address socioeconomic challenges.\n",
    "\n",
    "### Project Objectives\n",
    "\n",
    "- Develop accurate predictive models for estimating the number of low-income households in selected areas.\n",
    "- Identify key socioeconomic factors that contribute to the prevalence of low-income households.\n",
    "- Create visualizations and reports to communicate findings effectively.\n",
    "- Provide a tool for stakeholders to make data-driven decisions in policy and resource allocation.\n",
    "\n",
    "### Project Scope\n",
    "\n",
    "- Focus on predicting low-income households at the Statistical Area Level 2 (SA2) geographic level.\n",
    "- Utilize ABS census data from the past census period (2021) for model development and validation.\n",
    "- [WIP] Develop models for all of Australia, with the capability to focus on specific states or regions as needed.\n",
    "\n",
    "### Data Sources\n",
    "\n",
    "After consulting the Metadata table from General Community Profiles (GCP) of the Australian Census of 2021, 5 datasets were identified to be relevant to the project:\n",
    "- Selected Medians and Averages - G02\n",
    "- Total Household Income (Weekly) by Household Composition - G33\n",
    "- Number of Motor Vehicles by Dwellings - G34\n",
    "- Household Composition by Number of Persons Usually Resident - G35\n",
    "- Mortgage Repayment (Monthly) by Dwelling Structure - G38"
   ]
  },
  {
   "cell_type": "code",
   "execution_count": 1,
   "id": "fce57e3f-3f0f-4596-bfbb-7f6587c95b15",
   "metadata": {},
   "outputs": [],
   "source": [
    "# Import packagaes\n",
    "import os\n",
    "import pandas as pd\n",
    "import numpy as np\n",
    "import matplotlib.pyplot as plt\n",
    "import seaborn as sns\n",
    "from pathlib import Path\n",
    "import requests\n",
    "from sasctl import Session\n",
    "from sasctl.services import model_repository as mr, model_management as mm"
   ]
  },
  {
   "cell_type": "code",
   "execution_count": 2,
   "id": "bbf91a0d-2149-4ebb-ad06-d7c288106024",
   "metadata": {},
   "outputs": [],
   "source": [
    "# Import data\n",
    "\n",
    "# Call csv file by name\n",
    "g02 = pd.read_csv(\"./2021 Census GCP Statistical Area 2 for AUS/2021Census_G02_AUST_SA2.csv\")\n",
    "g33 = pd.read_csv(\"./2021 Census GCP Statistical Area 2 for AUS/2021Census_G33_AUST_SA2.csv\")\n",
    "g34 = pd.read_csv(\"./2021 Census GCP Statistical Area 2 for AUS/2021Census_G34_AUST_SA2.csv\")\n",
    "g35 = pd.read_csv(\"./2021 Census GCP Statistical Area 2 for AUS/2021Census_G35_AUST_SA2.csv\")\n",
    "g38 = pd.read_csv(\"./2021 Census GCP Statistical Area 2 for AUS/2021Census_G38_AUST_SA2.csv\")\n",
    "\n",
    "# Store DataFrames in a dictionary\n",
    "gcp = {\n",
    "    'g02': g02,\n",
    "    'g33': g33,\n",
    "    'g34': g34,\n",
    "    'g35': g35,\n",
    "    'g38': g38\n",
    "}"
   ]
  },
  {
   "cell_type": "markdown",
   "id": "88bc4d8c-7136-4073-851b-01658f69cfcb",
   "metadata": {},
   "source": [
    "## Exploratory Data Analysis"
   ]
  },
  {
   "cell_type": "markdown",
   "id": "54f8be48-f133-4065-868c-e7b94bf6efe2",
   "metadata": {},
   "source": [
    "Exploratory data analysis (EDA) is crucial in data science projects because it helps us understand the structure and characteristics of the data we're working with. By exploring variables, identifying patterns, detecting anomalies, and visualizing relationships, EDA enables us to make informed decisions about data preprocessing, feature engineering, and model selection. It also plays a key role in uncovering insights and formulating hypotheses, laying the groundwork for more accurate modeling and impactful conclusions."
   ]
  },
  {
   "cell_type": "markdown",
   "id": "0ce284b8-4bc7-4763-be76-d559eb12c2dc",
   "metadata": {
    "jp-MarkdownHeadingCollapsed": true
   },
   "source": [
    "### Dataset Characteristics"
   ]
  },
  {
   "cell_type": "code",
   "execution_count": 3,
   "id": "4c6d1286-5b5d-4a11-9af6-3661890f0251",
   "metadata": {},
   "outputs": [],
   "source": [
    "# Function for dataset characteristics\n",
    "def shape_column(df_name, df):\n",
    "    # Show dimension and column names of our data\n",
    "    shape_info = f\"DataFrame Name: {df_name}\\nShape: {df.shape}\\nColumn names: {df.columns.tolist()}\\n\"\n",
    "    return print(shape_info)"
   ]
  },
  {
   "cell_type": "code",
   "execution_count": 4,
   "id": "8523ce20-55eb-4dc9-a36e-dfc13bb5babb",
   "metadata": {},
   "outputs": [
    {
     "name": "stdout",
     "output_type": "stream",
     "text": [
      "DataFrame Name: g02\n",
      "Shape: (2472, 9)\n",
      "Column names: ['SA2_CODE_2021', 'Median_age_persons', 'Median_mortgage_repay_monthly', 'Median_tot_prsnl_inc_weekly', 'Median_rent_weekly', 'Median_tot_fam_inc_weekly', 'Average_num_psns_per_bedroom', 'Median_tot_hhd_inc_weekly', 'Average_household_size']\n",
      "\n",
      "DataFrame Name: g33\n",
      "Shape: (2472, 61)\n",
      "Column names: ['SA2_CODE_2021', 'Neg_Nil_inc_fam_households', 'Neg_Nil_inc_Non_fam_househlds', 'Negative_Nil_income_Tot', 'HI_1_149_Family_households', 'HI_1_149_Non_family_hseholds', 'HI_1_149_Tot', 'HI_150_299_Family_households', 'HI_150_299_Non_fam_househlds', 'HI_150_299_Tot', 'HI_300_399_Family_households', 'HI_300_399_Non_fam_househlds', 'HI_300_399_Tot', 'HI_400_499_Family_households', 'HI_400_499_Non_fam_househlds', 'HI_400_499_Tot', 'HI_500_649_Family_households', 'HI_500_649_Non_fam_househlds', 'HI_500_649_Tot', 'HI_650_799_Family_households', 'HI_650_799_Non_fam_househlds', 'HI_650_799_Tot', 'HI_800_999_Fam_households', 'HI_800_999_Non_fam_hsehlds', 'HI_800_999_Tot', 'HI_1000_1249_Fam_households', 'HI_1000_1249_Non_fam_hsehlds', 'HI_1000_1249_Tot', 'HI_1250_1499_Fam_households', 'HI_1250_1499_Non_fam_hsehlds', 'HI_1250_1499_Tot', 'HI_1500_1749_Fam_households', 'HI_1500_1749_Non_fam_hsehlds', 'HI_1500_1749_Tot', 'HI_1750_1999_Fam_households', 'HI_1750_1999_Non_fam_hsehlds', 'HI_1750_1999_Tot', 'HI_2000_2499_Fam_households', 'HI_2000_2499_Non_fam_hsehlds', 'HI_2000_2499_Tot', 'HI_2500_2999_Fam_households', 'HI_2500_2999_Non_fam_hsehlds', 'HI_2500_2999_Tot', 'HI_3000_3499_Fam_households', 'HI_3000_3499_Non_fam_hsehlds', 'HI_3000_3499_Tot', 'HI_3500_3999_Fam_households', 'HI_3500_3999_Non_fam_hsehlds', 'HI_3500_3999_Tot', 'HI_4000_more_Fam_households', 'HI_4000_more_Non_fam_hsehlds', 'HI_4000_more_Tot', 'Part_inc_stated_Fam_household', 'Part_inc_std_Non_fam_hhds', 'Partial_income_stated_Tot', 'All_incomes_ns_Famly_househld', 'All_inc_ns_Non_famly_househld', 'All_incomes_not_stated_Tot', 'Tot_Family_households', 'Tot_Non_family_households', 'Tot_Tot']\n",
      "\n",
      "DataFrame Name: g34\n",
      "Shape: (2472, 9)\n",
      "Column names: ['SA2_CODE_2021', 'Num_MVs_per_dweling_0_MVs', 'Num_MVs_per_dweling_1_MVs', 'Num_MVs_per_dweling_2_MVs', 'Num_MVs_per_dweling_3_MVs', 'Num_MVs_per_dweling_4mo_MVs', 'Num_MVs_per_dweling_Tot', 'Num_MVs_NS', 'Total_dwelings']\n",
      "\n",
      "DataFrame Name: g35\n",
      "Shape: (2472, 22)\n",
      "Column names: ['SA2_CODE_2021', 'Num_Psns_UR_1_FamHhold', 'Num_Psns_UR_1_NonFamHhold', 'Num_Psns_UR_1_Total', 'Num_Psns_UR_2_FamHhold', 'Num_Psns_UR_2_NonFamHhold', 'Num_Psns_UR_2_Total', 'Num_Psns_UR_3_FamHhold', 'Num_Psns_UR_3_NonFamHhold', 'Num_Psns_UR_3_Total', 'Num_Psns_UR_4_FamHhold', 'Num_Psns_UR_4_NonFamHhold', 'Num_Psns_UR_4_Total', 'Num_Psns_UR_5_FamHhold', 'Num_Psns_UR_5_NonFamHhold', 'Num_Psns_UR_5_Total', 'Num_Psns_UR_6mo_FamHhold', 'Num_Psns_UR_6mo_NonFamHhold', 'Num_Psns_UR_6mo_Total', 'Total_FamHhold', 'Total_NonFamHhold', 'Total_Total']\n",
      "\n",
      "DataFrame Name: g38\n",
      "Shape: (2472, 79)\n",
      "Column names: ['SA2_CODE_2021', 'M_0_299_DS_DS_Sept_house', 'M_0_299_DS_DS_sd_row_tce_hs_t', 'M_0_299_DS_DS_Flat_apart', 'M_0_299_DS_DS_Other_dwg', 'M_0_299_DS_ns', 'M_0_299_Tot', 'M_300_449_DS_Separate_hse', 'M_300_449_DS_sd_row_tc_hse_th', 'M_300_449_DS_Flat_apart', 'M_300_449_DS_Other_dwg', 'M_300_449_DS_ns', 'M_300_449_Tot', 'M_450_599_DS_Separate_hse', 'M_450_599_DS_sd_row_tce_hs_th', 'M_450_599_DS_Flat_apart', 'M_450_599_DS_Other_dwg', 'M_450_599_DS_ns', 'M_450_599_Tot', 'M_600_799_DS_Separate_hse', 'M_600_799_DS_sd_row_tc_hs_th', 'M_600_799_DS_Flat_apart', 'M_600_799_DS_Other_dwg', 'M_600_799_DS_ns', 'M_600_799_Tot', 'M_800_999_DS_Separate_hse', 'M_800_999_DS_sd_row_tc_hs_th', 'M_800_999_DS_Flat_apart', 'M_800_999_DS_Other_dwg', 'M_800_999_DS_ns', 'M_800_999_Tot', 'M_1000_1399_DS_Separate_hse', 'M_1000_1399_DS_sd_rw_tc_h_th', 'M_1000_1399_DS_Flat_apart', 'M_1000_1399_DS_Other_dwg', 'M_1000_1399_DS_ns', 'M_1000_1399_Tot', 'M_1400_1799_DS_Separate_hse', 'M_1400_1799_DS_sd_rw_tc_h_th', 'M_1400_1799_DS_Flat_apart', 'M_1400_1799_DS_Other_dwg', 'M_1400_1799_DS_ns', 'M_1400_1799_Tot', 'M_1800_2399_DS_Separate_hse', 'M_1800_2399_DS_sd_rw_tc_h_th', 'M_1800_2399_DS_Flat_apart', 'M_1800_2399_DS_Other_dwg', 'M_1800_2399_DS_ns', 'M_1800_2399_Tot', 'M_2400_2999_DS_Separate_hse', 'M_2400_2999_DS_sd_rw_tc_h_th', 'M_2400_2999_DS_Flat_apart', 'M_2400_2999_DS_Other_dwg', 'M_2400_2999_DS_ns', 'M_2400_2999_Tot', 'M_3000_3999_DS_Separate_hse', 'M_3000_3999_DS_sd_rw_tc_h_th', 'M_3000_3999_DS_Flt_apart', 'M_3000_3999_DS_Other_dwg', 'M_3000_3999_DS_ns', 'M_3000_3999_Tot', 'M_4000_over_DS_Separate_hse', 'M_4000_ov_DS_sd_rw_tce_hs_th', 'M_4000_over_DS_Flat_apart', 'M_4000_over_DS_Other_dwg', 'M_4000_DS_over_ns', 'M_4000_over_Tot', 'Mort_Rpmnt_ns_DS_Separat_hs', 'Mrt_Rpmt_ns_DS_sd_rw_tc_hs_th', 'Mrt_Rpmt_ns_DS_Flat_apart', 'Mort_Rpmnt_ns_DS_Other_dwg', 'Mort_Rpmnt_ns_DS_ns', 'Mort_Rpmnt_ns_Total', 'Tot_DS_Separate_hse', 'Tot_DS_sd_row_tce_hse_thse', 'Tot_DS_Flat_apartment', 'Tot_DS_Other_dwg', 'Tot_DS_ns', 'Tot_Tot']\n",
      "\n"
     ]
    }
   ],
   "source": [
    "for df_name, df in gcp.items():\n",
    "    shape_column(df_name, df)"
   ]
  },
  {
   "cell_type": "markdown",
   "id": "c0fb5de3-647c-49d6-8ca3-d738a1f26d5f",
   "metadata": {},
   "source": [
    "### Visualisations"
   ]
  },
  {
   "cell_type": "markdown",
   "id": "863466b1-70ab-4c28-af60-fc1316d227da",
   "metadata": {},
   "source": [
    "Dive into each dataset to see what reationships and insight they hold."
   ]
  },
  {
   "cell_type": "markdown",
   "id": "9a87c217-a898-4bfd-8cc4-2640e0ca8f4f",
   "metadata": {},
   "source": [
    "#### Selected Medians and Averages - G02"
   ]
  },
  {
   "cell_type": "code",
   "execution_count": 5,
   "id": "cec47354-7a5e-49d1-8701-0af017a68e54",
   "metadata": {},
   "outputs": [
    {
     "data": {
      "image/png": "[encoded data removed]",
      "text/plain": [
       "<Figure size 1000x600 with 1 Axes>"
      ]
     },
     "metadata": {},
     "output_type": "display_data"
    },
    {
     "data": {
      "image/png": "[encoded data removed]",
      "text/plain": [
       "<Figure size 1000x600 with 1 Axes>"
      ]
     },
     "metadata": {},
     "output_type": "display_data"
    }
   ],
   "source": [
    "# Distribution of Median Household Income\n",
    "plt.figure(figsize=(10, 6))\n",
    "sns.histplot(g02['Median_tot_hhd_inc_weekly'], kde=True, color='blue')\n",
    "plt.title('Distribution of Median Household Income (Weekly)')\n",
    "plt.xlabel('Median Household Income (Weekly)')\n",
    "plt.ylabel('Frequency')\n",
    "plt.show()\n",
    "\n",
    "# Distribution of Median Mortgage Repayment\n",
    "plt.figure(figsize=(10, 6))\n",
    "sns.histplot(g02['Median_mortgage_repay_monthly'], kde=True, color='green')\n",
    "plt.title('Distribution of Median Mortgage Repayment (Monthly)')\n",
    "plt.xlabel('Median Mortgage Repayment (Monthly)')\n",
    "plt.ylabel('Frequency')\n",
    "plt.show()\n"
   ]
  },
  {
   "cell_type": "code",
   "execution_count": 6,
   "id": "34d46ef8-fa80-49bc-aac7-2b2957aab6b1",
   "metadata": {},
   "outputs": [
    {
     "data": {
      "image/png": "[encoded data removed]",
      "text/plain": [
       "<Figure size 1000x800 with 2 Axes>"
      ]
     },
     "metadata": {},
     "output_type": "display_data"
    }
   ],
   "source": [
    "# Correlation matrix for income, age, mortgage repayment\n",
    "correlation_data = g02[['Median_age_persons', 'Median_mortgage_repay_monthly', \n",
    "                        'Median_tot_prsnl_inc_weekly', 'Median_rent_weekly', \n",
    "                        'Median_tot_fam_inc_weekly', 'Median_tot_hhd_inc_weekly']]\n",
    "\n",
    "# Compute correlation matrix\n",
    "corr_matrix = correlation_data.corr()\n",
    "\n",
    "# Plotting the heatmap\n",
    "plt.figure(figsize=(10, 8))\n",
    "sns.heatmap(corr_matrix, annot=True, cmap='coolwarm', linewidths=0.5, fmt='.2f')\n",
    "plt.title('Correlation Heatmap of Socioeconomic Variables')\n",
    "plt.show()\n"
   ]
  },
  {
   "cell_type": "markdown",
   "id": "145b6f2c-53b6-4bcd-9fd6-14be962f159b",
   "metadata": {},
   "source": [
    "#### Total Household Income (Weekly) by Household Composition - G33"
   ]
  },
  {
   "cell_type": "code",
   "execution_count": 7,
   "id": "978af057-4381-4f4c-ade3-54126fa2df0c",
   "metadata": {},
   "outputs": [
    {
     "data": {
      "image/png": "[encoded data removed]",
      "text/plain": [
       "<Figure size 1000x600 with 1 Axes>"
      ]
     },
     "metadata": {},
     "output_type": "display_data"
    }
   ],
   "source": [
    "# Visualizing the number of households in different income brackets (for g33 dataset)\n",
    "income_brackets = ['HI_1_149_Tot', 'HI_150_299_Tot', 'HI_300_399_Tot', 'HI_400_499_Tot']  # Example income brackets\n",
    "income_data = g33[income_brackets].sum()\n",
    "\n",
    "# Bar plot to visualize income categories\n",
    "plt.figure(figsize=(10, 6))\n",
    "income_data.plot(kind='bar', color='purple')\n",
    "plt.title('Number of Households in Different Income Brackets')\n",
    "plt.xlabel('Income Bracket')\n",
    "plt.ylabel('Number of Households')\n",
    "plt.xticks(rotation=45)\n",
    "plt.show()\n"
   ]
  },
  {
   "cell_type": "markdown",
   "id": "bb480f75-ed4d-4c2f-b47f-03c0601ea237",
   "metadata": {},
   "source": [
    "#### Number of Motor Vehicles by Dwellings - G34"
   ]
  },
  {
   "cell_type": "code",
   "execution_count": 8,
   "id": "262c37ed-51cd-4a21-8c2c-831eab8179fa",
   "metadata": {},
   "outputs": [
    {
     "data": {
      "image/png": "[encoded data removed]",
      "text/plain": [
       "<Figure size 1000x600 with 1 Axes>"
      ]
     },
     "metadata": {},
     "output_type": "display_data"
    },
    {
     "data": {
      "image/png": "[encoded data removed]",
      "text/plain": [
       "<Figure size 1000x600 with 1 Axes>"
      ]
     },
     "metadata": {},
     "output_type": "display_data"
    }
   ],
   "source": [
    "# 1. Plotting the distribution of dwellings based on the number of vehicles (using a stacked bar plot)\n",
    "vehicle_columns = ['Num_MVs_per_dweling_0_MVs', 'Num_MVs_per_dweling_1_MVs', \n",
    "                   'Num_MVs_per_dweling_2_MVs', 'Num_MVs_per_dweling_3_MVs', \n",
    "                   'Num_MVs_per_dweling_4mo_MVs']\n",
    "\n",
    "# Plotting the stacked bar plot for the number of motor vehicles per dwelling\n",
    "vehicle_data = g34[vehicle_columns].sum()\n",
    "\n",
    "plt.figure(figsize=(10, 6))\n",
    "vehicle_data.plot(kind='bar', stacked=True, color=['lightblue', 'lightgreen', 'lightcoral', 'lightyellow', 'lightskyblue'])\n",
    "plt.title('Total Number of Dwellings by Number of Motor Vehicles')\n",
    "plt.xlabel('Number of Motor Vehicles')\n",
    "plt.ylabel('Total Dwellings')\n",
    "plt.xticks(rotation=45)\n",
    "plt.show()\n",
    "\n",
    "# 2. Plotting a histogram for one of the vehicle categories (e.g., Num_MVs_per_dweling_1_MVs)\n",
    "plt.figure(figsize=(10, 6))\n",
    "sns.histplot(g34['Num_MVs_per_dweling_1_MVs'], kde=True, color='blue', bins=20)\n",
    "plt.title('Distribution of Dwellings with 1 Motor Vehicle')\n",
    "plt.xlabel('Number of Dwellings with 1 Motor Vehicle')\n",
    "plt.ylabel('Frequency')\n",
    "plt.show()\n"
   ]
  },
  {
   "cell_type": "code",
   "execution_count": 9,
   "id": "37085505-6a96-4dca-b1f4-60708be34129",
   "metadata": {},
   "outputs": [
    {
     "ename": "NameError",
     "evalue": "name 'household_data' is not defined",
     "output_type": "error",
     "traceback": [
      "\u001b[0;31m---------------------------------------------------------------------------\u001b[0m",
      "\u001b[0;31mNameError\u001b[0m                                 Traceback (most recent call last)",
      "Cell \u001b[0;32mIn[9], line 7\u001b[0m\n\u001b[1;32m      2\u001b[0m household_size_columns \u001b[38;5;241m=\u001b[39m [\u001b[38;5;124m'\u001b[39m\u001b[38;5;124mNum_Psns_UR_1_FamHhold\u001b[39m\u001b[38;5;124m'\u001b[39m, \u001b[38;5;124m'\u001b[39m\u001b[38;5;124mNum_Psns_UR_1_NonFamHhold\u001b[39m\u001b[38;5;124m'\u001b[39m, \n\u001b[1;32m      3\u001b[0m                           \u001b[38;5;124m'\u001b[39m\u001b[38;5;124mNum_Psns_UR_2_FamHhold\u001b[39m\u001b[38;5;124m'\u001b[39m, \u001b[38;5;124m'\u001b[39m\u001b[38;5;124mNum_Psns_UR_2_NonFamHhold\u001b[39m\u001b[38;5;124m'\u001b[39m, \n\u001b[1;32m      4\u001b[0m                           \u001b[38;5;124m'\u001b[39m\u001b[38;5;124mNum_Psns_UR_3_FamHhold\u001b[39m\u001b[38;5;124m'\u001b[39m, \u001b[38;5;124m'\u001b[39m\u001b[38;5;124mNum_Psns_UR_3_NonFamHhold\u001b[39m\u001b[38;5;124m'\u001b[39m]\n\u001b[1;32m      6\u001b[0m \u001b[38;5;66;03m# Summing up the family and non-family counts for each household size\u001b[39;00m\n\u001b[0;32m----> 7\u001b[0m household_data \u001b[38;5;241m=\u001b[39m pd\u001b[38;5;241m.\u001b[39mto_numeric(\u001b[43mhousehold_data\u001b[49m, errors\u001b[38;5;241m=\u001b[39m\u001b[38;5;124m'\u001b[39m\u001b[38;5;124mcoerce\u001b[39m\u001b[38;5;124m'\u001b[39m)\n\u001b[1;32m      9\u001b[0m \u001b[38;5;66;03m# Plotting a stacked bar plot\u001b[39;00m\n\u001b[1;32m     10\u001b[0m household_data\u001b[38;5;241m.\u001b[39mplot(kind\u001b[38;5;241m=\u001b[39m\u001b[38;5;124m'\u001b[39m\u001b[38;5;124mbar\u001b[39m\u001b[38;5;124m'\u001b[39m, stacked\u001b[38;5;241m=\u001b[39m\u001b[38;5;28;01mTrue\u001b[39;00m, figsize\u001b[38;5;241m=\u001b[39m(\u001b[38;5;241m10\u001b[39m, \u001b[38;5;241m6\u001b[39m), color\u001b[38;5;241m=\u001b[39m[\u001b[38;5;124m'\u001b[39m\u001b[38;5;124mskyblue\u001b[39m\u001b[38;5;124m'\u001b[39m, \u001b[38;5;124m'\u001b[39m\u001b[38;5;124morange\u001b[39m\u001b[38;5;124m'\u001b[39m])\n",
      "\u001b[0;31mNameError\u001b[0m: name 'household_data' is not defined"
     ]
    }
   ],
   "source": [
    "# 1. Stacked bar plot for household composition (family vs non-family by number of persons)\n",
    "household_size_columns = ['Num_Psns_UR_1_FamHhold', 'Num_Psns_UR_1_NonFamHhold', \n",
    "                          'Num_Psns_UR_2_FamHhold', 'Num_Psns_UR_2_NonFamHhold', \n",
    "                          'Num_Psns_UR_3_FamHhold', 'Num_Psns_UR_3_NonFamHhold']\n",
    "\n",
    "# Summing up the family and non-family counts for each household size\n",
    "household_data = pd.to_numeric(household_data, errors='coerce')\n",
    "\n",
    "# Plotting a stacked bar plot\n",
    "household_data.plot(kind='bar', stacked=True, figsize=(10, 6), color=['skyblue', 'orange'])\n",
    "plt.title('Household Composition by Number of Persons (Family vs Non-Family)')\n",
    "plt.xlabel('Household Size (Number of Persons)')\n",
    "plt.ylabel('Total Households')\n",
    "plt.xticks(rotation=45)\n",
    "plt.legend(['Family Households', 'Non-Family Households'])\n",
    "plt.show()\n",
    "\n",
    "# 2. Line plot to visualize trends in the number of persons in family vs non-family households\n",
    "plt.figure(figsize=(10, 6))\n",
    "sns.lineplot(data=g35[['Num_Psns_UR_1_FamHhold', 'Num_Psns_UR_1_NonFamHhold']].sum(), marker='o')\n",
    "plt.title('Trend of Household Composition (Family vs Non-Family)')\n",
    "plt.xlabel('Number of Persons in Household')\n",
    "plt.ylabel('Total Households')\n",
    "plt.xticks(rotation=45)\n",
    "plt.show()\n"
   ]
  },
  {
   "cell_type": "code",
   "execution_count": null,
   "id": "c920e878-0d74-46ca-931d-33e42c0289e6",
   "metadata": {},
   "outputs": [],
   "source": [
    "print(g35['Num_Psns_UR_1_FamHhold'])"
   ]
  },
  {
   "cell_type": "code",
   "execution_count": null,
   "id": "84e78a43-69ac-451a-b05b-38d5c4bd9419",
   "metadata": {},
   "outputs": [],
   "source": [
    "\n",
    "# Convert 'Num_Psns_UR_1_FamHhold' to numeric, coercing errors to NaN\n",
    "g35['Num_Psns_UR_1_FamHhold'] = pd.to_numeric(g35['Num_Psns_UR_1_FamHhold'], errors='coerce')\n",
    "\n",
    "# Check for any NaN values\n",
    "print(g35['Num_Psns_UR_1_FamHhold'].isna().sum())\n",
    "\n",
    "# Fill NaN values with 0 (or another strategy)\n",
    "g35['Num_Psns_UR_1_FamHhold'] = g35['Num_Psns_UR_1_FamHhold'].fillna(0)\n",
    "\n",
    "# Now, check the data types again to ensure the conversion worked\n",
    "print(g35['Num_Psns_UR_1_FamHhold'].dtype)\n",
    "\n",
    "# Check for any NaN values\n",
    "print(g35['Num_Psns_UR_1_FamHhold'].isna().sum())"
   ]
  },
  {
   "cell_type": "code",
   "execution_count": null,
   "id": "7ed451b4-f354-40cb-a897-9b8dcc509ea6",
   "metadata": {},
   "outputs": [],
   "source": [
    "# Summing up the family and non-family counts for each household size\n",
    "# Ensure that all values in 'household_data' are numeric\n",
    "household_data = pd.to_numeric(household_data, errors='coerce')\n",
    "\n",
    "# Check if any values were converted to NaN\n",
    "print(household_data.isna().sum())\n",
    "\n",
    "\n",
    "# Check the summed data to ensure it's valid\n",
    "print(household_data)\n",
    "\n",
    "# Plotting a stacked bar plot\n",
    "household_data.plot(kind='bar', stacked=True, figsize=(10, 6), color=['skyblue', 'orange'])\n",
    "plt.title('Household Composition by Number of Persons (Family vs Non-Family)')\n",
    "plt.xlabel('Household Size (Number of Persons)')\n",
    "plt.ylabel('Total Households')\n",
    "plt.xticks(rotation=45)\n",
    "plt.show()\n"
   ]
  },
  {
   "cell_type": "code",
   "execution_count": null,
   "id": "b7e695d4-1169-4e3a-92f6-8479d779f3ed",
   "metadata": {},
   "outputs": [],
   "source": [
    "# 1. Stacked Bar Plot for mortgage repayment by dwelling structure (Separate House, Flat, etc.)\n",
    "mortgage_columns = ['M_0_299_DS_Separate_hse', 'M_0_299_DS_Flat_apart', 'M_0_299_DS_Other_dwg', \n",
    "                    'M_300_449_DS_Separate_hse', 'M_300_449_DS_Flat_apart', 'M_300_449_DS_Other_dwg']\n",
    "\n",
    "# Summing up the mortgage repayment data\n",
    "mortgage_data = g38[mortgage_columns].sum()\n",
    "\n",
    "# Plotting a stacked bar plot\n",
    "mortgage_data.plot(kind='bar', stacked=True, figsize=(10, 6), color=['lightblue', 'lightgreen', 'lightcoral', 'lightyellow'])\n",
    "plt.title('Mortgage Repayment Distribution by Dwelling Structure')\n",
    "plt.xlabel('Mortgage Repayment Range')\n",
    "plt.ylabel('Total Number of Dwellings')\n",
    "plt.xticks(rotation=45)\n",
    "plt.show()\n",
    "\n",
    "# 2. Box plot for mortgage repayment spread across different dwelling types\n",
    "plt.figure(figsize=(10, 6))\n",
    "sns.boxplot(data=g38[['M_0_299_DS_Separate_hse', 'M_0_299_DS_Flat_apart', 'M_0_299_DS_Other_dwg']])\n",
    "plt.title('Distribution of Mortgage Repayment by Dwelling Type')\n",
    "plt.xlabel('Dwelling Type')\n",
    "plt.ylabel('Mortgage Repayment')\n",
    "plt.show()\n"
   ]
  },
  {
   "cell_type": "markdown",
   "id": "aa423b56-fad2-4a2a-a9ea-743ee365d6e8",
   "metadata": {},
   "source": [
    "## Variable Selection"
   ]
  },
  {
   "cell_type": "code",
   "execution_count": 10,
   "id": "24289afd-701a-4a15-922c-96f3b9cd1511",
   "metadata": {},
   "outputs": [
    {
     "data": {
      "text/plain": [
       "['SA2_CODE_2021',\n",
       " 'Median_age_persons',\n",
       " 'Median_rent_weekly',\n",
       " 'Average_num_psns_per_bedroom',\n",
       " 'Average_household_size']"
      ]
     },
     "execution_count": 10,
     "metadata": {},
     "output_type": "execute_result"
    }
   ],
   "source": [
    "# Select columns in g02\n",
    "# removing medians of variables explained in other df\n",
    "g02_filtered =  g02.drop(columns=['Median_mortgage_repay_monthly',\n",
    "                                 'Median_tot_prsnl_inc_weekly', \n",
    "                                 'Median_tot_fam_inc_weekly', \n",
    "                                 'Median_tot_hhd_inc_weekly'])\n",
    "\n",
    "g02_filtered.columns.tolist()"
   ]
  },
  {
   "cell_type": "code",
   "execution_count": 11,
   "id": "245f367f-530e-4557-b075-682ab7b264e1",
   "metadata": {},
   "outputs": [
    {
     "data": {
      "text/plain": [
       "['SA2_CODE_2021',\n",
       " 'HI_1_149_Tot',\n",
       " 'HI_150_299_Tot',\n",
       " 'HI_300_399_Tot',\n",
       " 'HI_400_499_Tot',\n",
       " 'HI_500_649_Tot',\n",
       " 'HI_650_799_Tot',\n",
       " 'HI_800_999_Tot',\n",
       " 'HI_1000_1249_Tot',\n",
       " 'HI_1250_1499_Tot',\n",
       " 'HI_1500_1749_Tot',\n",
       " 'HI_1750_1999_Tot',\n",
       " 'HI_2000_2499_Tot',\n",
       " 'HI_2500_2999_Tot',\n",
       " 'HI_3000_3499_Tot',\n",
       " 'HI_3500_3999_Tot',\n",
       " 'HI_4000_more_Tot']"
      ]
     },
     "execution_count": 11,
     "metadata": {},
     "output_type": "execute_result"
    }
   ],
   "source": [
    "# Select columns in g33\n",
    "# Select columns that contain both \"HI_\" and \"_Tot\"\n",
    "g33_col_mask = g33.columns[g33.columns.str.contains(\"HI_\") & g33.columns.str.contains(\"_Tot\")]\n",
    "\n",
    "# Append the column name 'SA2_CODE_2021' to the list\n",
    "g33_col_mask = g33_col_mask.insert(0, 'SA2_CODE_2021')\n",
    "\n",
    "g33_filtered = g33[g33_col_mask]\n",
    "\n",
    "g33_filtered.columns.tolist()"
   ]
  },
  {
   "cell_type": "code",
   "execution_count": 12,
   "id": "bc5001e8-2de6-4919-a443-e399630306fe",
   "metadata": {},
   "outputs": [
    {
     "data": {
      "text/plain": [
       "['SA2_CODE_2021',\n",
       " 'Num_MVs_per_dweling_0_MVs',\n",
       " 'Num_MVs_per_dweling_1_MVs',\n",
       " 'Num_MVs_per_dweling_2_MVs',\n",
       " 'Num_MVs_per_dweling_3_MVs',\n",
       " 'Num_MVs_per_dweling_4mo_MVs']"
      ]
     },
     "execution_count": 12,
     "metadata": {},
     "output_type": "execute_result"
    }
   ],
   "source": [
    "# Select columns in g34\n",
    "# drop total and not stated households\n",
    "g34_filtered = g34.drop(columns=['Num_MVs_per_dweling_Tot', \n",
    "                                 'Num_MVs_NS', \n",
    "                                 'Total_dwelings'])\n",
    "\n",
    "g34_filtered.columns.tolist()"
   ]
  },
  {
   "cell_type": "code",
   "execution_count": 13,
   "id": "cb5a19c6-45bd-4684-9c61-730b1aa1ae43",
   "metadata": {},
   "outputs": [
    {
     "data": {
      "text/plain": [
       "['SA2_CODE_2021',\n",
       " 'Num_Psns_UR_1_Total',\n",
       " 'Num_Psns_UR_2_Total',\n",
       " 'Num_Psns_UR_3_Total',\n",
       " 'Num_Psns_UR_4_Total',\n",
       " 'Num_Psns_UR_5_Total',\n",
       " 'Num_Psns_UR_6mo_Total']"
      ]
     },
     "execution_count": 13,
     "metadata": {},
     "output_type": "execute_result"
    }
   ],
   "source": [
    "# Select columns in g35\n",
    "# Select columns that contain \"_Total\"\n",
    "g35_col_mask = g35.columns[g35.columns.str.contains(\"_Total\")]\n",
    "\n",
    "# drop the last Total column\n",
    "g35_col_mask = g35_col_mask.drop('Total_Total')\n",
    "\n",
    "# Append the column name 'SA2_CODE_2021' to the list\n",
    "g35_col_mask = g35_col_mask.insert(0, 'SA2_CODE_2021')\n",
    "\n",
    "# Apply filtering mask\n",
    "g35_filtered = g35[g35_col_mask]\n",
    "\n",
    "g35_filtered.columns.tolist()"
   ]
  },
  {
   "cell_type": "code",
   "execution_count": 14,
   "id": "80756f29-a631-4a3d-8c43-e8f31171df07",
   "metadata": {},
   "outputs": [
    {
     "data": {
      "text/plain": [
       "['SA2_CODE_2021',\n",
       " 'M_0_299_Tot',\n",
       " 'M_300_449_Tot',\n",
       " 'M_450_599_Tot',\n",
       " 'M_600_799_Tot',\n",
       " 'M_800_999_Tot',\n",
       " 'M_1000_1399_Tot',\n",
       " 'M_1400_1799_Tot',\n",
       " 'M_1800_2399_Tot',\n",
       " 'M_2400_2999_Tot',\n",
       " 'M_3000_3999_Tot',\n",
       " 'M_4000_over_Tot']"
      ]
     },
     "execution_count": 14,
     "metadata": {},
     "output_type": "execute_result"
    }
   ],
   "source": [
    "# Select columns in g38\n",
    "# Select columns that contain both \"M_\" and \"_Tot\"\n",
    "g38_col_mask = g38.columns[g38.columns.str.contains(\"M_\") & g38.columns.str.contains(\"_Tot\")]\n",
    "\n",
    "# Append the column name 'SA2_CODE_2021' to the list\n",
    "g38_col_mask = g38_col_mask.insert(0, 'SA2_CODE_2021')\n",
    "\n",
    "# Apply filtering mask\n",
    "g38_filtered = g38[g38_col_mask]\n",
    "\n",
    "g38_filtered.columns.tolist()"
   ]
  },
  {
   "cell_type": "markdown",
   "id": "1611293d-07ba-4dcd-bbb5-d4b710ebfdd6",
   "metadata": {},
   "source": [
    "### Joining dataframes"
   ]
  },
  {
   "cell_type": "code",
   "execution_count": 15,
   "id": "9f6c4161-4dcd-4a69-9457-259382e4591a",
   "metadata": {},
   "outputs": [
    {
     "data": {
      "text/plain": [
       "(2472, 43)"
      ]
     },
     "execution_count": 15,
     "metadata": {},
     "output_type": "execute_result"
    }
   ],
   "source": [
    "def merge_dataframes(dataframes, common_column):\n",
    "    # Start with the first DataFrame\n",
    "    merged_df = dataframes[0]\n",
    "\n",
    "    # Iteratively merge the remaining DataFrames\n",
    "    for df in dataframes[1:]:\n",
    "        merged_df = merged_df.merge(df, on=common_column, how='inner')\n",
    "\n",
    "    return merged_df\n",
    "\n",
    "# Merging filtered df\n",
    "census_joined = merge_dataframes([g02_filtered, g33_filtered, g34_filtered, g35_filtered, g38_filtered], 'SA2_CODE_2021')\n",
    "census_joined.shape"
   ]
  },
  {
   "cell_type": "markdown",
   "id": "f9d6fa53-6c0f-4f7a-ac8a-00f5483b046b",
   "metadata": {},
   "source": [
    "### Final data EDA"
   ]
  },
  {
   "cell_type": "code",
   "execution_count": 16,
   "id": "47ad7ab5-9f2d-429b-8152-2fdaaa091d73",
   "metadata": {},
   "outputs": [
    {
     "data": {
      "text/plain": [
       "SA2_CODE_2021                     int64\n",
       "Median_age_persons                int64\n",
       "Median_rent_weekly                int64\n",
       "Average_num_psns_per_bedroom    float64\n",
       "Average_household_size          float64\n",
       "HI_1_149_Tot                      int64\n",
       "HI_150_299_Tot                    int64\n",
       "HI_300_399_Tot                    int64\n",
       "HI_400_499_Tot                    int64\n",
       "HI_500_649_Tot                    int64\n",
       "HI_650_799_Tot                    int64\n",
       "HI_800_999_Tot                    int64\n",
       "HI_1000_1249_Tot                  int64\n",
       "HI_1250_1499_Tot                  int64\n",
       "HI_1500_1749_Tot                  int64\n",
       "HI_1750_1999_Tot                  int64\n",
       "HI_2000_2499_Tot                  int64\n",
       "HI_2500_2999_Tot                  int64\n",
       "HI_3000_3499_Tot                  int64\n",
       "HI_3500_3999_Tot                  int64\n",
       "HI_4000_more_Tot                  int64\n",
       "Num_MVs_per_dweling_0_MVs         int64\n",
       "Num_MVs_per_dweling_1_MVs         int64\n",
       "Num_MVs_per_dweling_2_MVs         int64\n",
       "Num_MVs_per_dweling_3_MVs         int64\n",
       "Num_MVs_per_dweling_4mo_MVs       int64\n",
       "Num_Psns_UR_1_Total               int64\n",
       "Num_Psns_UR_2_Total               int64\n",
       "Num_Psns_UR_3_Total               int64\n",
       "Num_Psns_UR_4_Total               int64\n",
       "Num_Psns_UR_5_Total               int64\n",
       "Num_Psns_UR_6mo_Total             int64\n",
       "M_0_299_Tot                       int64\n",
       "M_300_449_Tot                     int64\n",
       "M_450_599_Tot                     int64\n",
       "M_600_799_Tot                     int64\n",
       "M_800_999_Tot                     int64\n",
       "M_1000_1399_Tot                   int64\n",
       "M_1400_1799_Tot                   int64\n",
       "M_1800_2399_Tot                   int64\n",
       "M_2400_2999_Tot                   int64\n",
       "M_3000_3999_Tot                   int64\n",
       "M_4000_over_Tot                   int64\n",
       "dtype: object"
      ]
     },
     "execution_count": 16,
     "metadata": {},
     "output_type": "execute_result"
    }
   ],
   "source": [
    "census_joined.dtypes"
   ]
  },
  {
   "cell_type": "code",
   "execution_count": 17,
   "id": "d4c80626-197b-4930-b413-52903de9b192",
   "metadata": {},
   "outputs": [
    {
     "data": {
      "text/plain": [
       "SA2_CODE_2021                   0\n",
       "Median_age_persons              0\n",
       "Median_rent_weekly              0\n",
       "Average_num_psns_per_bedroom    0\n",
       "Average_household_size          0\n",
       "HI_1_149_Tot                    0\n",
       "HI_150_299_Tot                  0\n",
       "HI_300_399_Tot                  0\n",
       "HI_400_499_Tot                  0\n",
       "HI_500_649_Tot                  0\n",
       "HI_650_799_Tot                  0\n",
       "HI_800_999_Tot                  0\n",
       "HI_1000_1249_Tot                0\n",
       "HI_1250_1499_Tot                0\n",
       "HI_1500_1749_Tot                0\n",
       "HI_1750_1999_Tot                0\n",
       "HI_2000_2499_Tot                0\n",
       "HI_2500_2999_Tot                0\n",
       "HI_3000_3499_Tot                0\n",
       "HI_3500_3999_Tot                0\n",
       "HI_4000_more_Tot                0\n",
       "Num_MVs_per_dweling_0_MVs       0\n",
       "Num_MVs_per_dweling_1_MVs       0\n",
       "Num_MVs_per_dweling_2_MVs       0\n",
       "Num_MVs_per_dweling_3_MVs       0\n",
       "Num_MVs_per_dweling_4mo_MVs     0\n",
       "Num_Psns_UR_1_Total             0\n",
       "Num_Psns_UR_2_Total             0\n",
       "Num_Psns_UR_3_Total             0\n",
       "Num_Psns_UR_4_Total             0\n",
       "Num_Psns_UR_5_Total             0\n",
       "Num_Psns_UR_6mo_Total           0\n",
       "M_0_299_Tot                     0\n",
       "M_300_449_Tot                   0\n",
       "M_450_599_Tot                   0\n",
       "M_600_799_Tot                   0\n",
       "M_800_999_Tot                   0\n",
       "M_1000_1399_Tot                 0\n",
       "M_1400_1799_Tot                 0\n",
       "M_1800_2399_Tot                 0\n",
       "M_2400_2999_Tot                 0\n",
       "M_3000_3999_Tot                 0\n",
       "M_4000_over_Tot                 0\n",
       "dtype: int64"
      ]
     },
     "execution_count": 17,
     "metadata": {},
     "output_type": "execute_result"
    }
   ],
   "source": [
    "census_joined.isna().sum()"
   ]
  },
  {
   "cell_type": "markdown",
   "id": "973e2b9f-fda3-4005-af0a-3ef898df92e1",
   "metadata": {},
   "source": [
    "## Modelling"
   ]
  },
  {
   "cell_type": "code",
   "execution_count": 18,
   "id": "6839deed-3722-4530-871f-ed07bd1e2042",
   "metadata": {},
   "outputs": [],
   "source": [
    "from sklearn.model_selection import train_test_split\n",
    "from sklearn.preprocessing import StandardScaler\n",
    "#!pip install xgboost\n",
    "from xgboost import XGBRegressor\n",
    "from sklearn.ensemble import RandomForestRegressor, GradientBoostingRegressor\n",
    "from sklearn.linear_model import ElasticNet\n",
    "from sklearn.svm import SVR\n",
    "from sklearn.metrics import mean_squared_error, r2_score\n",
    "#import statsmodels.api as sm\n",
    "import matplotlib.pyplot as plt\n",
    "\n",
    "from sklearn.pipeline import Pipeline\n",
    "from sklearn.metrics import mean_absolute_error, mean_squared_error, r2_score\n",
    "import time\n",
    "from sklearn.model_selection import GridSearchCV"
   ]
  },
  {
   "cell_type": "code",
   "execution_count": 19,
   "id": "58f63b3f-ff3a-4ea3-9ef3-ce17e98b8f71",
   "metadata": {},
   "outputs": [],
   "source": [
    "# Prepare features and target\n",
    "def prepare_features(df, target):\n",
    "    features = df.columns.drop(target)\n",
    "    X = df[features]\n",
    "    y = df[target]\n",
    "    return X, y"
   ]
  },
  {
   "cell_type": "code",
   "execution_count": 20,
   "id": "a72d056f-7acc-49f3-83fe-43ee3052f728",
   "metadata": {},
   "outputs": [
    {
     "data": {
      "text/plain": [
       "Index(['SA2_CODE_2021', 'Median_age_persons', 'Median_rent_weekly',\n",
       "       'Average_num_psns_per_bedroom', 'Average_household_size',\n",
       "       'HI_1_149_Tot', 'HI_150_299_Tot', 'HI_300_399_Tot', 'HI_400_499_Tot',\n",
       "       'HI_500_649_Tot', 'HI_650_799_Tot', 'HI_800_999_Tot',\n",
       "       'HI_1000_1249_Tot', 'HI_1250_1499_Tot', 'HI_1500_1749_Tot',\n",
       "       'HI_1750_1999_Tot', 'HI_2000_2499_Tot', 'HI_2500_2999_Tot',\n",
       "       'HI_3000_3499_Tot', 'HI_4000_more_Tot', 'Num_MVs_per_dweling_0_MVs',\n",
       "       'Num_MVs_per_dweling_1_MVs', 'Num_MVs_per_dweling_2_MVs',\n",
       "       'Num_MVs_per_dweling_3_MVs', 'Num_MVs_per_dweling_4mo_MVs',\n",
       "       'Num_Psns_UR_1_Total', 'Num_Psns_UR_2_Total', 'Num_Psns_UR_3_Total',\n",
       "       'Num_Psns_UR_4_Total', 'Num_Psns_UR_5_Total', 'Num_Psns_UR_6mo_Total',\n",
       "       'M_0_299_Tot', 'M_300_449_Tot', 'M_450_599_Tot', 'M_600_799_Tot',\n",
       "       'M_800_999_Tot', 'M_1000_1399_Tot', 'M_1400_1799_Tot',\n",
       "       'M_1800_2399_Tot', 'M_2400_2999_Tot', 'M_3000_3999_Tot',\n",
       "       'M_4000_over_Tot'],\n",
       "      dtype='object')"
      ]
     },
     "execution_count": 20,
     "metadata": {},
     "output_type": "execute_result"
    }
   ],
   "source": [
    "X, y = prepare_features(census_joined, 'HI_3500_3999_Tot')\n",
    "X.columns"
   ]
  },
  {
   "cell_type": "code",
   "execution_count": 21,
   "id": "74358aa7-766e-41e4-a2ad-369de723e575",
   "metadata": {},
   "outputs": [
    {
     "name": "stdout",
     "output_type": "stream",
     "text": [
      "Training data shape: (1977, 42) \n",
      "Validation data shape: (495, 42)\n"
     ]
    }
   ],
   "source": [
    "X_train, X_test, y_train, y_test = train_test_split(X, y, test_size=0.2, random_state=42)\n",
    "print(\"Training data shape:\", X_train.shape, \"\\n\" + \"Validation data shape:\", X_test.shape)"
   ]
  },
  {
   "cell_type": "code",
   "execution_count": 22,
   "id": "9b686349-8d15-4fde-baa6-d02e155ab02f",
   "metadata": {},
   "outputs": [],
   "source": [
    "def create_and_evaluate_pipeline(X_train, X_test, y_train, y_test, regressor):\n",
    "    # Create the pipeline with the specified regressor\n",
    "    pipeline = Pipeline([\n",
    "        ('scaler', StandardScaler()),  # Standardizing the data\n",
    "        ('regressor', regressor)        # The regressor passed as an argument\n",
    "    ])\n",
    "\n",
    "    # Start the timer\n",
    "    start_time = time.time()\n",
    "\n",
    "    # Fit the model\n",
    "    pipeline.fit(X_train, y_train)\n",
    "\n",
    "    # Stop the timer\n",
    "    end_time = time.time()\n",
    "    elapsed_time = end_time - start_time\n",
    "\n",
    "    # Make predictions\n",
    "    y_pred = pipeline.predict(X_test)\n",
    "\n",
    "    # Evaluate the model\n",
    "    mae = mean_absolute_error(y_test, y_pred)\n",
    "    mse = mean_squared_error(y_test, y_pred)\n",
    "    r2 = r2_score(y_test, y_pred)\n",
    "\n",
    "    # Display evaluation metrics\n",
    "    print(f\"Regressor: {regressor.__class__.__name__}\")\n",
    "    print(f\"Mean Absolute Error: {mae:.2f}\")\n",
    "    print(f\"Mean Squared Error: {mse:.2f}\")\n",
    "    print(f\"R² Score: {r2:.2f}\")\n",
    "    print(f\"Time elapsed: {elapsed_time:.2f} seconds\")"
   ]
  },
  {
   "cell_type": "markdown",
   "id": "8a52e0c4-765f-454b-b8a1-49d5bd656774",
   "metadata": {},
   "source": [
    "### Open-Sourced modelling packages"
   ]
  },
  {
   "cell_type": "code",
   "execution_count": 23,
   "id": "188df2bb-0a4a-45b6-b2ef-2f700e4e7d9c",
   "metadata": {},
   "outputs": [
    {
     "name": "stdout",
     "output_type": "stream",
     "text": [
      "Regressor: RandomForestRegressor\n",
      "Mean Absolute Error: 13.13\n",
      "Mean Squared Error: 345.63\n",
      "R² Score: 0.97\n",
      "Time elapsed: 3.95 seconds\n",
      "Regressor: GradientBoostingRegressor\n",
      "Mean Absolute Error: 12.76\n",
      "Mean Squared Error: 300.36\n",
      "R² Score: 0.97\n",
      "Time elapsed: 1.49 seconds\n",
      "Regressor: ElasticNet\n",
      "Mean Absolute Error: 19.05\n",
      "Mean Squared Error: 672.68\n",
      "R² Score: 0.94\n",
      "Time elapsed: 0.01 seconds\n",
      "Regressor: SVR\n",
      "Mean Absolute Error: 50.23\n",
      "Mean Squared Error: 4144.23\n",
      "R² Score: 0.65\n",
      "Time elapsed: 0.18 seconds\n",
      "Regressor: XGBRegressor\n",
      "Mean Absolute Error: 12.60\n",
      "Mean Squared Error: 299.32\n",
      "R² Score: 0.97\n",
      "Time elapsed: 0.19 seconds\n"
     ]
    }
   ],
   "source": [
    "# To use the function with different regressors:\n",
    "create_and_evaluate_pipeline(X_train, X_test, y_train, y_test, \n",
    "                             RandomForestRegressor(n_estimators=100, random_state=42))\n",
    "create_and_evaluate_pipeline(X_train, X_test, y_train, y_test, \n",
    "                             GradientBoostingRegressor(n_estimators=100, learning_rate=0.1, max_depth=3, random_state=42))\n",
    "create_and_evaluate_pipeline(X_train, X_test, y_train, y_test, \n",
    "                             ElasticNet(alpha=1.0, l1_ratio=0.5, random_state=42))\n",
    "create_and_evaluate_pipeline(X_train, X_test, y_train, y_test, \n",
    "                             SVR(kernel='poly', C=1.0, epsilon=0.1))\n",
    "create_and_evaluate_pipeline(X_train, X_test, y_train, y_test, \n",
    "                             XGBRegressor(n_estimators=100, learning_rate=0.1, max_depth=3, random_state=42))"
   ]
  },
  {
   "cell_type": "markdown",
   "id": "81121887-7838-49b8-aedc-cc84444b469d",
   "metadata": {},
   "source": [
    "### SAS ML models\n",
    "\n",
    "SAS has released a proprietary Python package named sasviya.ml that contains optimized SAS machine learning algorithms designed to run in SAS Viya Workbench.\n",
    "\n",
    "https://go.documentation.sas.com/doc/en/workbenchcdc/v_001/explore/titlepage.htm"
   ]
  },
  {
   "cell_type": "code",
   "execution_count": 24,
   "id": "c4758470-3911-4879-af28-1a7fa427fe85",
   "metadata": {},
   "outputs": [],
   "source": [
    "#fit a random forest model\n",
    "from sasviya.ml.tree import ForestRegressor as sas_ForestRegressor\n",
    "from sasviya.ml.tree import GradientBoostingRegressor as sas_GradientBoostingRegressor\n",
    "from sasviya.ml.linear_model import ElasticNet as sas_ElasticNet\n",
    "from sasviya.ml.svm import SVR as sas_SVR\n",
    "from sasviya.ml.decomposition import PCA as sas_PCA"
   ]
  },
  {
   "cell_type": "code",
   "execution_count": 25,
   "id": "fa21d0de-afc5-4bdb-a0b8-12ce39e701c9",
   "metadata": {},
   "outputs": [
    {
     "name": "stdout",
     "output_type": "stream",
     "text": [
      "Regressor: ForestRegressor\n",
      "Mean Absolute Error: 14.57\n",
      "Mean Squared Error: 445.34\n",
      "R² Score: 0.96\n",
      "Time elapsed: 0.76 seconds\n",
      "Regressor: GradientBoostingRegressor\n",
      "Mean Absolute Error: 13.02\n",
      "Mean Squared Error: 321.14\n",
      "R² Score: 0.97\n",
      "Time elapsed: 0.24 seconds\n",
      "Regressor: ElasticNet\n",
      "Mean Absolute Error: 19.05\n",
      "Mean Squared Error: 672.80\n",
      "R² Score: 0.94\n",
      "Time elapsed: 0.07 seconds\n",
      "Regressor: SVR\n",
      "Mean Absolute Error: 12.00\n",
      "Mean Squared Error: 277.77\n",
      "R² Score: 0.98\n",
      "Time elapsed: 0.72 seconds\n"
     ]
    }
   ],
   "source": [
    "create_and_evaluate_pipeline(X_train, X_test, y_train, y_test, \n",
    "                             sas_ForestRegressor(n_estimators=100, random_state=42))\n",
    "create_and_evaluate_pipeline(X_train, X_test, y_train, y_test, \n",
    "                             sas_GradientBoostingRegressor(n_estimators=100, learning_rate=0.1, max_depth=3, random_state=42))\n",
    "create_and_evaluate_pipeline(X_train, X_test, y_train, y_test, \n",
    "                             sas_ElasticNet(alpha=1.0, l1_ratio=0.5)) # no random_state parameter\n",
    "create_and_evaluate_pipeline(X_train, X_test, y_train, y_test, \n",
    "                             sas_SVR(kernel='poly', C=1.0, epsilon=0.1))"
   ]
  },
  {
   "cell_type": "markdown",
   "id": "a1f0bb55-cf75-4133-ba92-96496031fe48",
   "metadata": {},
   "source": [
    "## Model Tuning"
   ]
  },
  {
   "cell_type": "code",
   "execution_count": 26,
   "id": "77187d08-e740-4156-b638-8c61320fc3ca",
   "metadata": {},
   "outputs": [
    {
     "name": "stdout",
     "output_type": "stream",
     "text": [
      "Fitting 3 folds for each of 72 candidates, totalling 216 fits\n",
      "Best parameters: {'regressor__colsample_bytree': 0.8, 'regressor__learning_rate': 0.1, 'regressor__max_depth': 4, 'regressor__n_estimators': 200, 'regressor__subsample': 0.8}\n",
      "Best cross-validation score (neg MSE): -287.39649149593185\n"
     ]
    }
   ],
   "source": [
    "## Open source champion tuning\n",
    "# Define the model\n",
    "xgb = XGBRegressor(random_state=42)\n",
    "\n",
    "# Set up the parameter grid\n",
    "param_grid = {\n",
    "    'regressor__n_estimators': [100, 200],\n",
    "    'regressor__learning_rate': [0.01, 0.1, 0.2],\n",
    "    'regressor__max_depth': [3, 4, 5],\n",
    "    'regressor__subsample': [0.8, 1.0],\n",
    "    'regressor__colsample_bytree': [0.8, 1.0]\n",
    "}\n",
    "\n",
    "# Set up GridSearchCV\n",
    "grid_search = GridSearchCV(\n",
    "    estimator=Pipeline([\n",
    "        ('scaler', StandardScaler()),\n",
    "        ('regressor', xgb)\n",
    "    ]),\n",
    "    param_grid=param_grid,\n",
    "    scoring='neg_mean_squared_error',\n",
    "    cv=3,\n",
    "    verbose=1,\n",
    "    n_jobs=-1  # Use all available cores\n",
    ")\n",
    "\n",
    "# Fit the grid search\n",
    "grid_search.fit(X_train, y_train)\n",
    "\n",
    "# Display the best parameters and best score\n",
    "print(f\"Best parameters: {grid_search.best_params_}\")\n",
    "print(f\"Best cross-validation score (neg MSE): {grid_search.best_score_}\")"
   ]
  },
  {
   "cell_type": "code",
   "execution_count": 27,
   "id": "fced115b-35db-4cbb-acc2-5e375916f783",
   "metadata": {},
   "outputs": [
    {
     "name": "stdout",
     "output_type": "stream",
     "text": [
      "Regressor: Pipeline\n",
      "Mean Absolute Error: 12.53\n",
      "Mean Squared Error: 298.87\n",
      "R² Score: 0.97\n",
      "Time elapsed: 0.44 seconds\n"
     ]
    }
   ],
   "source": [
    "create_and_evaluate_pipeline(X_train, X_test, y_train, y_test, \n",
    "                             grid_search.best_estimator_)"
   ]
  },
  {
   "cell_type": "code",
   "execution_count": 28,
   "id": "f55c9b58-43c4-4f9d-8c78-713f5877deda",
   "metadata": {},
   "outputs": [
    {
     "data": {
      "text/html": [
       "<div><b>&#167; Key</b></div>\n",
       "<div class=\"cas-results=body\">\n",
       "<div>\n",
       "<style scoped>\n",
       "    .dataframe tbody tr th:only-of-type {\n",
       "        vertical-align: middle;\n",
       "    }\n",
       "\n",
       "    .dataframe tbody tr th {\n",
       "        vertical-align: top;\n",
       "    }\n",
       "\n",
       "    .dataframe thead th {\n",
       "        text-align: right;\n",
       "    }\n",
       "</style>\n",
       "<table border=\"1\" class=\"dataframe\">\n",
       "<caption style=\"text-align: center;\">Store Key</caption>\n",
       "  <thead>\n",
       "    <tr style=\"text-align: right;\">\n",
       "      <th>Key</th>\n",
       "    </tr>\n",
       "  </thead>\n",
       "  <tbody>\n",
       "    <tr>\n",
       "      <td>490AF72C943FC0DF1C792B0C6B26251D3A8C7D88</td>\n",
       "    </tr>\n",
       "  </tbody>\n",
       "</table>\n",
       "</div>\n",
       "</div>\n",
       "<div><hr /><b>&#167; Description</b></div>\n",
       "<div class=\"cas-results=body\">\n",
       "<div>\n",
       "<style scoped>\n",
       "    .dataframe tbody tr th:only-of-type {\n",
       "        vertical-align: middle;\n",
       "    }\n",
       "\n",
       "    .dataframe tbody tr th {\n",
       "        vertical-align: top;\n",
       "    }\n",
       "\n",
       "    .dataframe thead th {\n",
       "        text-align: right;\n",
       "    }\n",
       "</style>\n",
       "<table border=\"1\" class=\"dataframe\">\n",
       "<caption style=\"text-align: center;\">Basic Information</caption>\n",
       "  <thead>\n",
       "    <tr style=\"text-align: right;\">\n",
       "      <th>Attribute</th>\n",
       "      <th>Value</th>\n",
       "    </tr>\n",
       "  </thead>\n",
       "  <tbody>\n",
       "    <tr>\n",
       "      <td>Analytic Engine</td>\n",
       "      <td>pca</td>\n",
       "    </tr>\n",
       "    <tr>\n",
       "      <td>Time Created</td>\n",
       "      <td>28Nov2024:05:09:42</td>\n",
       "    </tr>\n",
       "  </tbody>\n",
       "</table>\n",
       "</div>\n",
       "</div>\n",
       "<div><hr /><b>&#167; InputVariables</b></div>\n",
       "<div class=\"cas-results=body\">\n",
       "<div>\n",
       "<style scoped>\n",
       "    .dataframe tbody tr th:only-of-type {\n",
       "        vertical-align: middle;\n",
       "    }\n",
       "\n",
       "    .dataframe tbody tr th {\n",
       "        vertical-align: top;\n",
       "    }\n",
       "\n",
       "    .dataframe thead th {\n",
       "        text-align: right;\n",
       "    }\n",
       "</style>\n",
       "<table border=\"1\" class=\"dataframe\">\n",
       "<caption style=\"text-align: center;\">Input Variables</caption>\n",
       "  <thead>\n",
       "    <tr style=\"text-align: right;\">\n",
       "      <th>Name</th>\n",
       "      <th>Length</th>\n",
       "      <th>Role</th>\n",
       "      <th>Type</th>\n",
       "      <th>RawType</th>\n",
       "      <th>FormatName</th>\n",
       "    </tr>\n",
       "  </thead>\n",
       "  <tbody>\n",
       "    <tr>\n",
       "      <td>SA2_CODE_2021</td>\n",
       "      <td>8.0</td>\n",
       "      <td>Input</td>\n",
       "      <td>Interval</td>\n",
       "      <td>Num</td>\n",
       "      <td></td>\n",
       "    </tr>\n",
       "    <tr>\n",
       "      <td>Median_age_persons</td>\n",
       "      <td>8.0</td>\n",
       "      <td>Input</td>\n",
       "      <td>Interval</td>\n",
       "      <td>Num</td>\n",
       "      <td></td>\n",
       "    </tr>\n",
       "    <tr>\n",
       "      <td>Median_rent_weekly</td>\n",
       "      <td>8.0</td>\n",
       "      <td>Input</td>\n",
       "      <td>Interval</td>\n",
       "      <td>Num</td>\n",
       "      <td></td>\n",
       "    </tr>\n",
       "    <tr>\n",
       "      <td>Average_num_psns_per_bedroom</td>\n",
       "      <td>8.0</td>\n",
       "      <td>Input</td>\n",
       "      <td>Interval</td>\n",
       "      <td>Num</td>\n",
       "      <td></td>\n",
       "    </tr>\n",
       "    <tr>\n",
       "      <td>Average_household_size</td>\n",
       "      <td>8.0</td>\n",
       "      <td>Input</td>\n",
       "      <td>Interval</td>\n",
       "      <td>Num</td>\n",
       "      <td></td>\n",
       "    </tr>\n",
       "    <tr>\n",
       "      <td>HI_1_149_Tot</td>\n",
       "      <td>8.0</td>\n",
       "      <td>Input</td>\n",
       "      <td>Interval</td>\n",
       "      <td>Num</td>\n",
       "      <td></td>\n",
       "    </tr>\n",
       "    <tr>\n",
       "      <td>HI_150_299_Tot</td>\n",
       "      <td>8.0</td>\n",
       "      <td>Input</td>\n",
       "      <td>Interval</td>\n",
       "      <td>Num</td>\n",
       "      <td></td>\n",
       "    </tr>\n",
       "    <tr>\n",
       "      <td>HI_300_399_Tot</td>\n",
       "      <td>8.0</td>\n",
       "      <td>Input</td>\n",
       "      <td>Interval</td>\n",
       "      <td>Num</td>\n",
       "      <td></td>\n",
       "    </tr>\n",
       "    <tr>\n",
       "      <td>HI_400_499_Tot</td>\n",
       "      <td>8.0</td>\n",
       "      <td>Input</td>\n",
       "      <td>Interval</td>\n",
       "      <td>Num</td>\n",
       "      <td></td>\n",
       "    </tr>\n",
       "    <tr>\n",
       "      <td>HI_500_649_Tot</td>\n",
       "      <td>8.0</td>\n",
       "      <td>Input</td>\n",
       "      <td>Interval</td>\n",
       "      <td>Num</td>\n",
       "      <td></td>\n",
       "    </tr>\n",
       "    <tr>\n",
       "      <td>HI_650_799_Tot</td>\n",
       "      <td>8.0</td>\n",
       "      <td>Input</td>\n",
       "      <td>Interval</td>\n",
       "      <td>Num</td>\n",
       "      <td></td>\n",
       "    </tr>\n",
       "    <tr>\n",
       "      <td>HI_800_999_Tot</td>\n",
       "      <td>8.0</td>\n",
       "      <td>Input</td>\n",
       "      <td>Interval</td>\n",
       "      <td>Num</td>\n",
       "      <td></td>\n",
       "    </tr>\n",
       "    <tr>\n",
       "      <td>HI_1000_1249_Tot</td>\n",
       "      <td>8.0</td>\n",
       "      <td>Input</td>\n",
       "      <td>Interval</td>\n",
       "      <td>Num</td>\n",
       "      <td></td>\n",
       "    </tr>\n",
       "    <tr>\n",
       "      <td>HI_1250_1499_Tot</td>\n",
       "      <td>8.0</td>\n",
       "      <td>Input</td>\n",
       "      <td>Interval</td>\n",
       "      <td>Num</td>\n",
       "      <td></td>\n",
       "    </tr>\n",
       "    <tr>\n",
       "      <td>HI_1500_1749_Tot</td>\n",
       "      <td>8.0</td>\n",
       "      <td>Input</td>\n",
       "      <td>Interval</td>\n",
       "      <td>Num</td>\n",
       "      <td></td>\n",
       "    </tr>\n",
       "    <tr>\n",
       "      <td>HI_1750_1999_Tot</td>\n",
       "      <td>8.0</td>\n",
       "      <td>Input</td>\n",
       "      <td>Interval</td>\n",
       "      <td>Num</td>\n",
       "      <td></td>\n",
       "    </tr>\n",
       "    <tr>\n",
       "      <td>HI_2000_2499_Tot</td>\n",
       "      <td>8.0</td>\n",
       "      <td>Input</td>\n",
       "      <td>Interval</td>\n",
       "      <td>Num</td>\n",
       "      <td></td>\n",
       "    </tr>\n",
       "    <tr>\n",
       "      <td>HI_2500_2999_Tot</td>\n",
       "      <td>8.0</td>\n",
       "      <td>Input</td>\n",
       "      <td>Interval</td>\n",
       "      <td>Num</td>\n",
       "      <td></td>\n",
       "    </tr>\n",
       "    <tr>\n",
       "      <td>HI_3000_3499_Tot</td>\n",
       "      <td>8.0</td>\n",
       "      <td>Input</td>\n",
       "      <td>Interval</td>\n",
       "      <td>Num</td>\n",
       "      <td></td>\n",
       "    </tr>\n",
       "    <tr>\n",
       "      <td>HI_4000_more_Tot</td>\n",
       "      <td>8.0</td>\n",
       "      <td>Input</td>\n",
       "      <td>Interval</td>\n",
       "      <td>Num</td>\n",
       "      <td></td>\n",
       "    </tr>\n",
       "    <tr>\n",
       "      <td>Num_MVs_per_dweling_0_MVs</td>\n",
       "      <td>8.0</td>\n",
       "      <td>Input</td>\n",
       "      <td>Interval</td>\n",
       "      <td>Num</td>\n",
       "      <td></td>\n",
       "    </tr>\n",
       "    <tr>\n",
       "      <td>Num_MVs_per_dweling_1_MVs</td>\n",
       "      <td>8.0</td>\n",
       "      <td>Input</td>\n",
       "      <td>Interval</td>\n",
       "      <td>Num</td>\n",
       "      <td></td>\n",
       "    </tr>\n",
       "    <tr>\n",
       "      <td>Num_MVs_per_dweling_2_MVs</td>\n",
       "      <td>8.0</td>\n",
       "      <td>Input</td>\n",
       "      <td>Interval</td>\n",
       "      <td>Num</td>\n",
       "      <td></td>\n",
       "    </tr>\n",
       "    <tr>\n",
       "      <td>Num_MVs_per_dweling_3_MVs</td>\n",
       "      <td>8.0</td>\n",
       "      <td>Input</td>\n",
       "      <td>Interval</td>\n",
       "      <td>Num</td>\n",
       "      <td></td>\n",
       "    </tr>\n",
       "    <tr>\n",
       "      <td>Num_MVs_per_dweling_4mo_MVs</td>\n",
       "      <td>8.0</td>\n",
       "      <td>Input</td>\n",
       "      <td>Interval</td>\n",
       "      <td>Num</td>\n",
       "      <td></td>\n",
       "    </tr>\n",
       "    <tr>\n",
       "      <td>Num_Psns_UR_1_Total</td>\n",
       "      <td>8.0</td>\n",
       "      <td>Input</td>\n",
       "      <td>Interval</td>\n",
       "      <td>Num</td>\n",
       "      <td></td>\n",
       "    </tr>\n",
       "    <tr>\n",
       "      <td>Num_Psns_UR_2_Total</td>\n",
       "      <td>8.0</td>\n",
       "      <td>Input</td>\n",
       "      <td>Interval</td>\n",
       "      <td>Num</td>\n",
       "      <td></td>\n",
       "    </tr>\n",
       "    <tr>\n",
       "      <td>Num_Psns_UR_3_Total</td>\n",
       "      <td>8.0</td>\n",
       "      <td>Input</td>\n",
       "      <td>Interval</td>\n",
       "      <td>Num</td>\n",
       "      <td></td>\n",
       "    </tr>\n",
       "    <tr>\n",
       "      <td>Num_Psns_UR_4_Total</td>\n",
       "      <td>8.0</td>\n",
       "      <td>Input</td>\n",
       "      <td>Interval</td>\n",
       "      <td>Num</td>\n",
       "      <td></td>\n",
       "    </tr>\n",
       "    <tr>\n",
       "      <td>Num_Psns_UR_5_Total</td>\n",
       "      <td>8.0</td>\n",
       "      <td>Input</td>\n",
       "      <td>Interval</td>\n",
       "      <td>Num</td>\n",
       "      <td></td>\n",
       "    </tr>\n",
       "    <tr>\n",
       "      <td>Num_Psns_UR_6mo_Total</td>\n",
       "      <td>8.0</td>\n",
       "      <td>Input</td>\n",
       "      <td>Interval</td>\n",
       "      <td>Num</td>\n",
       "      <td></td>\n",
       "    </tr>\n",
       "    <tr>\n",
       "      <td>M_0_299_Tot</td>\n",
       "      <td>8.0</td>\n",
       "      <td>Input</td>\n",
       "      <td>Interval</td>\n",
       "      <td>Num</td>\n",
       "      <td></td>\n",
       "    </tr>\n",
       "    <tr>\n",
       "      <td>M_300_449_Tot</td>\n",
       "      <td>8.0</td>\n",
       "      <td>Input</td>\n",
       "      <td>Interval</td>\n",
       "      <td>Num</td>\n",
       "      <td></td>\n",
       "    </tr>\n",
       "    <tr>\n",
       "      <td>M_450_599_Tot</td>\n",
       "      <td>8.0</td>\n",
       "      <td>Input</td>\n",
       "      <td>Interval</td>\n",
       "      <td>Num</td>\n",
       "      <td></td>\n",
       "    </tr>\n",
       "    <tr>\n",
       "      <td>M_600_799_Tot</td>\n",
       "      <td>8.0</td>\n",
       "      <td>Input</td>\n",
       "      <td>Interval</td>\n",
       "      <td>Num</td>\n",
       "      <td></td>\n",
       "    </tr>\n",
       "    <tr>\n",
       "      <td>M_800_999_Tot</td>\n",
       "      <td>8.0</td>\n",
       "      <td>Input</td>\n",
       "      <td>Interval</td>\n",
       "      <td>Num</td>\n",
       "      <td></td>\n",
       "    </tr>\n",
       "    <tr>\n",
       "      <td>M_1000_1399_Tot</td>\n",
       "      <td>8.0</td>\n",
       "      <td>Input</td>\n",
       "      <td>Interval</td>\n",
       "      <td>Num</td>\n",
       "      <td></td>\n",
       "    </tr>\n",
       "    <tr>\n",
       "      <td>M_1400_1799_Tot</td>\n",
       "      <td>8.0</td>\n",
       "      <td>Input</td>\n",
       "      <td>Interval</td>\n",
       "      <td>Num</td>\n",
       "      <td></td>\n",
       "    </tr>\n",
       "    <tr>\n",
       "      <td>M_1800_2399_Tot</td>\n",
       "      <td>8.0</td>\n",
       "      <td>Input</td>\n",
       "      <td>Interval</td>\n",
       "      <td>Num</td>\n",
       "      <td></td>\n",
       "    </tr>\n",
       "    <tr>\n",
       "      <td>M_2400_2999_Tot</td>\n",
       "      <td>8.0</td>\n",
       "      <td>Input</td>\n",
       "      <td>Interval</td>\n",
       "      <td>Num</td>\n",
       "      <td></td>\n",
       "    </tr>\n",
       "    <tr>\n",
       "      <td>M_3000_3999_Tot</td>\n",
       "      <td>8.0</td>\n",
       "      <td>Input</td>\n",
       "      <td>Interval</td>\n",
       "      <td>Num</td>\n",
       "      <td></td>\n",
       "    </tr>\n",
       "    <tr>\n",
       "      <td>M_4000_over_Tot</td>\n",
       "      <td>8.0</td>\n",
       "      <td>Input</td>\n",
       "      <td>Interval</td>\n",
       "      <td>Num</td>\n",
       "      <td></td>\n",
       "    </tr>\n",
       "  </tbody>\n",
       "</table>\n",
       "</div>\n",
       "</div>\n",
       "<div><hr /><b>&#167; OutputVariables</b></div>\n",
       "<div class=\"cas-results=body\">\n",
       "<div>\n",
       "<style scoped>\n",
       "    .dataframe tbody tr th:only-of-type {\n",
       "        vertical-align: middle;\n",
       "    }\n",
       "\n",
       "    .dataframe tbody tr th {\n",
       "        vertical-align: top;\n",
       "    }\n",
       "\n",
       "    .dataframe thead th {\n",
       "        text-align: right;\n",
       "    }\n",
       "</style>\n",
       "<table border=\"1\" class=\"dataframe\">\n",
       "<caption style=\"text-align: center;\">Output Variables</caption>\n",
       "  <thead>\n",
       "    <tr style=\"text-align: right;\">\n",
       "      <th>Name</th>\n",
       "      <th>Length</th>\n",
       "      <th>Type</th>\n",
       "      <th>Label</th>\n",
       "    </tr>\n",
       "  </thead>\n",
       "  <tbody>\n",
       "    <tr>\n",
       "      <td>Prin1</td>\n",
       "      <td>8.0</td>\n",
       "      <td>Num</td>\n",
       "      <td></td>\n",
       "    </tr>\n",
       "    <tr>\n",
       "      <td>Prin2</td>\n",
       "      <td>8.0</td>\n",
       "      <td>Num</td>\n",
       "      <td></td>\n",
       "    </tr>\n",
       "    <tr>\n",
       "      <td>Prin3</td>\n",
       "      <td>8.0</td>\n",
       "      <td>Num</td>\n",
       "      <td></td>\n",
       "    </tr>\n",
       "    <tr>\n",
       "      <td>Prin4</td>\n",
       "      <td>8.0</td>\n",
       "      <td>Num</td>\n",
       "      <td></td>\n",
       "    </tr>\n",
       "    <tr>\n",
       "      <td>Prin5</td>\n",
       "      <td>8.0</td>\n",
       "      <td>Num</td>\n",
       "      <td></td>\n",
       "    </tr>\n",
       "    <tr>\n",
       "      <td>Prin6</td>\n",
       "      <td>8.0</td>\n",
       "      <td>Num</td>\n",
       "      <td></td>\n",
       "    </tr>\n",
       "    <tr>\n",
       "      <td>Prin7</td>\n",
       "      <td>8.0</td>\n",
       "      <td>Num</td>\n",
       "      <td></td>\n",
       "    </tr>\n",
       "    <tr>\n",
       "      <td>Prin8</td>\n",
       "      <td>8.0</td>\n",
       "      <td>Num</td>\n",
       "      <td></td>\n",
       "    </tr>\n",
       "    <tr>\n",
       "      <td>Prin9</td>\n",
       "      <td>8.0</td>\n",
       "      <td>Num</td>\n",
       "      <td></td>\n",
       "    </tr>\n",
       "    <tr>\n",
       "      <td>Prin10</td>\n",
       "      <td>8.0</td>\n",
       "      <td>Num</td>\n",
       "      <td></td>\n",
       "    </tr>\n",
       "    <tr>\n",
       "      <td>Prin11</td>\n",
       "      <td>8.0</td>\n",
       "      <td>Num</td>\n",
       "      <td></td>\n",
       "    </tr>\n",
       "    <tr>\n",
       "      <td>Prin12</td>\n",
       "      <td>8.0</td>\n",
       "      <td>Num</td>\n",
       "      <td></td>\n",
       "    </tr>\n",
       "    <tr>\n",
       "      <td>Prin13</td>\n",
       "      <td>8.0</td>\n",
       "      <td>Num</td>\n",
       "      <td></td>\n",
       "    </tr>\n",
       "    <tr>\n",
       "      <td>Prin14</td>\n",
       "      <td>8.0</td>\n",
       "      <td>Num</td>\n",
       "      <td></td>\n",
       "    </tr>\n",
       "    <tr>\n",
       "      <td>Prin15</td>\n",
       "      <td>8.0</td>\n",
       "      <td>Num</td>\n",
       "      <td></td>\n",
       "    </tr>\n",
       "    <tr>\n",
       "      <td>Prin16</td>\n",
       "      <td>8.0</td>\n",
       "      <td>Num</td>\n",
       "      <td></td>\n",
       "    </tr>\n",
       "    <tr>\n",
       "      <td>Prin17</td>\n",
       "      <td>8.0</td>\n",
       "      <td>Num</td>\n",
       "      <td></td>\n",
       "    </tr>\n",
       "    <tr>\n",
       "      <td>Prin18</td>\n",
       "      <td>8.0</td>\n",
       "      <td>Num</td>\n",
       "      <td></td>\n",
       "    </tr>\n",
       "    <tr>\n",
       "      <td>Prin19</td>\n",
       "      <td>8.0</td>\n",
       "      <td>Num</td>\n",
       "      <td></td>\n",
       "    </tr>\n",
       "    <tr>\n",
       "      <td>Prin20</td>\n",
       "      <td>8.0</td>\n",
       "      <td>Num</td>\n",
       "      <td></td>\n",
       "    </tr>\n",
       "  </tbody>\n",
       "</table>\n",
       "</div>\n",
       "</div>"
      ],
      "text/plain": [
       "[Key]\n",
       "\n",
       "               Store Key                \n",
       " \n",
       "                                      Key\n",
       " 490AF72C943FC0DF1C792B0C6B26251D3A8C7D88\n",
       "\n",
       "[Description]\n",
       "\n",
       "        Basic Information         \n",
       " \n",
       "       Attribute              Value\n",
       " Analytic Engine                pca\n",
       "    Time Created 28Nov2024:05:09:42\n",
       "\n",
       "[InputVariables]\n",
       "\n",
       "                           Input Variables                            \n",
       " \n",
       "                         Name  Length  Role     Type RawType FormatName\n",
       "                SA2_CODE_2021     8.0 Input Interval     Num           \n",
       "           Median_age_persons     8.0 Input Interval     Num           \n",
       "           Median_rent_weekly     8.0 Input Interval     Num           \n",
       " Average_num_psns_per_bedroom     8.0 Input Interval     Num           \n",
       "       Average_household_size     8.0 Input Interval     Num           \n",
       "                 HI_1_149_Tot     8.0 Input Interval     Num           \n",
       "               HI_150_299_Tot     8.0 Input Interval     Num           \n",
       "               HI_300_399_Tot     8.0 Input Interval     Num           \n",
       "               HI_400_499_Tot     8.0 Input Interval     Num           \n",
       "               HI_500_649_Tot     8.0 Input Interval     Num           \n",
       "               HI_650_799_Tot     8.0 Input Interval     Num           \n",
       "               HI_800_999_Tot     8.0 Input Interval     Num           \n",
       "             HI_1000_1249_Tot     8.0 Input Interval     Num           \n",
       "             HI_1250_1499_Tot     8.0 Input Interval     Num           \n",
       "             HI_1500_1749_Tot     8.0 Input Interval     Num           \n",
       "             HI_1750_1999_Tot     8.0 Input Interval     Num           \n",
       "             HI_2000_2499_Tot     8.0 Input Interval     Num           \n",
       "             HI_2500_2999_Tot     8.0 Input Interval     Num           \n",
       "             HI_3000_3499_Tot     8.0 Input Interval     Num           \n",
       "             HI_4000_more_Tot     8.0 Input Interval     Num           \n",
       "    Num_MVs_per_dweling_0_MVs     8.0 Input Interval     Num           \n",
       "    Num_MVs_per_dweling_1_MVs     8.0 Input Interval     Num           \n",
       "    Num_MVs_per_dweling_2_MVs     8.0 Input Interval     Num           \n",
       "    Num_MVs_per_dweling_3_MVs     8.0 Input Interval     Num           \n",
       "  Num_MVs_per_dweling_4mo_MVs     8.0 Input Interval     Num           \n",
       "          Num_Psns_UR_1_Total     8.0 Input Interval     Num           \n",
       "          Num_Psns_UR_2_Total     8.0 Input Interval     Num           \n",
       "          Num_Psns_UR_3_Total     8.0 Input Interval     Num           \n",
       "          Num_Psns_UR_4_Total     8.0 Input Interval     Num           \n",
       "          Num_Psns_UR_5_Total     8.0 Input Interval     Num           \n",
       "        Num_Psns_UR_6mo_Total     8.0 Input Interval     Num           \n",
       "                  M_0_299_Tot     8.0 Input Interval     Num           \n",
       "                M_300_449_Tot     8.0 Input Interval     Num           \n",
       "                M_450_599_Tot     8.0 Input Interval     Num           \n",
       "                M_600_799_Tot     8.0 Input Interval     Num           \n",
       "                M_800_999_Tot     8.0 Input Interval     Num           \n",
       "              M_1000_1399_Tot     8.0 Input Interval     Num           \n",
       "              M_1400_1799_Tot     8.0 Input Interval     Num           \n",
       "              M_1800_2399_Tot     8.0 Input Interval     Num           \n",
       "              M_2400_2999_Tot     8.0 Input Interval     Num           \n",
       "              M_3000_3999_Tot     8.0 Input Interval     Num           \n",
       "              M_4000_over_Tot     8.0 Input Interval     Num           \n",
       "\n",
       "[OutputVariables]\n",
       "\n",
       "    Output Variables     \n",
       " \n",
       "   Name  Length Type Label\n",
       "  Prin1     8.0  Num      \n",
       "  Prin2     8.0  Num      \n",
       "  Prin3     8.0  Num      \n",
       "  Prin4     8.0  Num      \n",
       "  Prin5     8.0  Num      \n",
       "  Prin6     8.0  Num      \n",
       "  Prin7     8.0  Num      \n",
       "  Prin8     8.0  Num      \n",
       "  Prin9     8.0  Num      \n",
       " Prin10     8.0  Num      \n",
       " Prin11     8.0  Num      \n",
       " Prin12     8.0  Num      \n",
       " Prin13     8.0  Num      \n",
       " Prin14     8.0  Num      \n",
       " Prin15     8.0  Num      \n",
       " Prin16     8.0  Num      \n",
       " Prin17     8.0  Num      \n",
       " Prin18     8.0  Num      \n",
       " Prin19     8.0  Num      \n",
       " Prin20     8.0  Num      \n",
       "\n"
      ]
     },
     "execution_count": 28,
     "metadata": {},
     "output_type": "execute_result"
    }
   ],
   "source": [
    "## SAS champion model tuning\n",
    "# Specify the number of principal components to keep\n",
    "n_components = 20\n",
    "\n",
    "# using PCA to for feature selection\n",
    "pca = sas_PCA(n_components=n_components, random_state=42)\n",
    "X_train_pca = pca.fit_transform(X_train)\n",
    "X_test_pca = pca.transform(X_test)\n",
    "\n",
    "pca.describe()"
   ]
  },
  {
   "cell_type": "code",
   "execution_count": 29,
   "id": "c7205e3e-f0b8-4654-8dd8-66b89307c5ca",
   "metadata": {},
   "outputs": [
    {
     "name": "stdout",
     "output_type": "stream",
     "text": [
      "Fitting 3 folds for each of 27 candidates, totalling 81 fits\n"
     ]
    },
    {
     "name": "stderr",
     "output_type": "stream",
     "text": [
      "/usr/local/lib64/python3.11/site-packages/sklearn/model_selection/_validation.py:425: FitFailedWarning: \n",
      "27 fits failed out of a total of 81.\n",
      "The score on these train-test partitions for these parameters will be set to nan.\n",
      "If these failures are not expected, you can try to debug them by setting error_score='raise'.\n",
      "\n",
      "Below are more details about the failures:\n",
      "--------------------------------------------------------------------------------\n",
      "27 fits failed with the following error:\n",
      "Traceback (most recent call last):\n",
      "  File \"/usr/local/lib64/python3.11/site-packages/sklearn/model_selection/_validation.py\", line 732, in _fit_and_score\n",
      "    estimator.fit(X_train, y_train, **fit_params)\n",
      "  File \"/usr/local/lib64/python3.11/site-packages/sklearn/base.py\", line 1151, in wrapper\n",
      "    return fit_method(estimator, *args, **kwargs)\n",
      "           ^^^^^^^^^^^^^^^^^^^^^^^^^^^^^^^^^^^^^^\n",
      "  File \"/usr/local/lib64/python3.11/site-packages/sklearn/pipeline.py\", line 420, in fit\n",
      "    self._final_estimator.fit(Xt, y, **fit_params_last_step)\n",
      "  File \"/usr/local/lib/python3.11/site-packages/sasviya/ml/svm.py\", line 91, in fit\n",
      "    self._update_params(fit_params)\n",
      "  File \"/usr/local/lib/python3.11/site-packages/sasviya/ml/svm.py\", line 241, in _update_params\n",
      "    raise ValueError(\n",
      "ValueError: Only the 'activeset' method is supported when using a polynomial kernel with degree > 3.\n",
      "\n",
      "  warnings.warn(some_fits_failed_message, FitFailedWarning)\n",
      "/usr/local/lib64/python3.11/site-packages/sklearn/model_selection/_search.py:976: UserWarning: One or more of the test scores are non-finite: [  -1046.34210325   -1041.20477219   -1037.07252577  -15466.8837036\n",
      "  -15097.113483    -14618.91376201              nan              nan\n",
      "              nan    -482.11432266    -482.75252515    -484.77769236\n",
      "  -39979.35862241  -39353.03957766  -39144.40590202              nan\n",
      "              nan              nan    -426.48878364    -428.24819109\n",
      "    -434.72660357 -107005.81347585 -101109.22663265  -94053.13923108\n",
      "              nan              nan              nan]\n",
      "  warnings.warn(\n"
     ]
    },
    {
     "name": "stdout",
     "output_type": "stream",
     "text": [
      "Best parameters: {'regressor__C': 10.0, 'regressor__degree': 2, 'regressor__epsilon': 0.01}\n",
      "Best cross-validation score (neg MSE): -426.48878364473507\n"
     ]
    }
   ],
   "source": [
    "# Define the SVR model\n",
    "sas_svr = sas_SVR(kernel='poly', random_state=42)\n",
    "\n",
    "# Set up the parameter grid\n",
    "param_grid = {\n",
    "    'regressor__C': [0.1, 1.0, 10.0],\n",
    "    'regressor__epsilon': [0.01, 0.1, 0.2],\n",
    "    'regressor__degree': [2, 3, 4],  # Only relevant for polynomial kernel\n",
    "}\n",
    "\n",
    "# Set up GridSearchCV\n",
    "grid_search = GridSearchCV(\n",
    "    estimator=Pipeline([\n",
    "        ('scaler', StandardScaler()),\n",
    "        ('regressor', sas_svr)\n",
    "    ]),\n",
    "    param_grid=param_grid,\n",
    "    scoring='neg_mean_squared_error',\n",
    "    cv=3,\n",
    "    verbose=1,\n",
    "    n_jobs=-1  # Use all available cores\n",
    ")\n",
    "\n",
    "# Fit the grid search\n",
    "grid_search.fit(X_train_pca, y_train) # using features from PCA\n",
    "\n",
    "# Display the best parameters and best score\n",
    "print(f\"Best parameters: {grid_search.best_params_}\")\n",
    "print(f\"Best cross-validation score (neg MSE): {grid_search.best_score_}\")"
   ]
  },
  {
   "cell_type": "code",
   "execution_count": 30,
   "id": "0a13a317-3e2a-49bc-a80e-25fe58866ded",
   "metadata": {},
   "outputs": [
    {
     "name": "stdout",
     "output_type": "stream",
     "text": [
      "Regressor: Pipeline\n",
      "Mean Absolute Error: 12.57\n",
      "Mean Squared Error: 286.90\n",
      "R² Score: 0.98\n",
      "Time elapsed: 0.18 seconds\n"
     ]
    }
   ],
   "source": [
    "create_and_evaluate_pipeline(X_train_pca, X_test_pca, y_train, y_test, \n",
    "                             grid_search.best_estimator_)"
   ]
  },
  {
   "cell_type": "code",
   "execution_count": 31,
   "id": "5c13d2c3-6cba-4208-b444-7397815a3ed0",
   "metadata": {},
   "outputs": [
    {
     "name": "stdout",
     "output_type": "stream",
     "text": [
      "Fitting 3 folds for each of 27 candidates, totalling 81 fits\n"
     ]
    },
    {
     "name": "stderr",
     "output_type": "stream",
     "text": [
      "2024-11-28 05:10:12,931 [ERROR   ] [151 ][_action.py     ] The total feature dimension (42) is high for polynomial degree 3.\n",
      "2024-11-28 05:10:12,931 [ERROR   ] [151 ][_action.py     ] The dimension is too high to process.\n",
      "2024-11-28 05:10:12,976 [ERROR   ] [151 ][_action.py     ] The total feature dimension (42) is high for polynomial degree 3.\n",
      "2024-11-28 05:10:12,977 [ERROR   ] [151 ][_action.py     ] The dimension is too high to process.\n",
      "2024-11-28 05:10:13,060 [ERROR   ] [151 ][_action.py     ] The total feature dimension (42) is high for polynomial degree 3.\n",
      "2024-11-28 05:10:13,060 [ERROR   ] [151 ][_action.py     ] The dimension is too high to process.\n",
      "2024-11-28 05:10:13,070 [ERROR   ] [151 ][_action.py     ] The total feature dimension (42) is high for polynomial degree 3.\n",
      "2024-11-28 05:10:13,071 [ERROR   ] [151 ][_action.py     ] The dimension is too high to process.\n",
      "2024-11-28 05:10:13,091 [ERROR   ] [151 ][_action.py     ] The total feature dimension (42) is high for polynomial degree 3.\n",
      "2024-11-28 05:10:13,091 [ERROR   ] [151 ][_action.py     ] The dimension is too high to process.\n",
      "2024-11-28 05:10:13,188 [ERROR   ] [151 ][_action.py     ] The total feature dimension (42) is high for polynomial degree 3.\n",
      "2024-11-28 05:10:13,188 [ERROR   ] [151 ][_action.py     ] The dimension is too high to process.\n",
      "2024-11-28 05:10:13,191 [ERROR   ] [151 ][_action.py     ] The total feature dimension (42) is high for polynomial degree 3.\n",
      "2024-11-28 05:10:13,191 [ERROR   ] [151 ][_action.py     ] The dimension is too high to process.\n",
      "2024-11-28 05:10:13,220 [ERROR   ] [151 ][_action.py     ] The total feature dimension (42) is high for polynomial degree 3.\n",
      "2024-11-28 05:10:13,220 [ERROR   ] [151 ][_action.py     ] The dimension is too high to process.\n",
      "2024-11-28 05:10:13,282 [ERROR   ] [151 ][_action.py     ] The total feature dimension (42) is high for polynomial degree 3.\n",
      "2024-11-28 05:10:13,283 [ERROR   ] [151 ][_action.py     ] The dimension is too high to process.\n",
      "2024-11-28 05:10:16,312 [ERROR   ] [151 ][_action.py     ] The total feature dimension (42) is high for polynomial degree 3.\n",
      "2024-11-28 05:10:16,312 [ERROR   ] [151 ][_action.py     ] The dimension is too high to process.\n",
      "2024-11-28 05:10:16,391 [ERROR   ] [151 ][_action.py     ] The total feature dimension (42) is high for polynomial degree 3.\n",
      "2024-11-28 05:10:16,392 [ERROR   ] [151 ][_action.py     ] The dimension is too high to process.\n",
      "2024-11-28 05:10:16,403 [ERROR   ] [151 ][_action.py     ] The total feature dimension (42) is high for polynomial degree 3.\n",
      "2024-11-28 05:10:16,404 [ERROR   ] [151 ][_action.py     ] The dimension is too high to process.\n",
      "2024-11-28 05:10:16,502 [ERROR   ] [151 ][_action.py     ] The total feature dimension (42) is high for polynomial degree 3.\n",
      "2024-11-28 05:10:16,502 [ERROR   ] [151 ][_action.py     ] The dimension is too high to process.\n",
      "2024-11-28 05:10:16,565 [ERROR   ] [151 ][_action.py     ] The total feature dimension (42) is high for polynomial degree 3.\n",
      "2024-11-28 05:10:16,565 [ERROR   ] [151 ][_action.py     ] The dimension is too high to process.\n",
      "2024-11-28 05:10:16,605 [ERROR   ] [151 ][_action.py     ] The total feature dimension (42) is high for polynomial degree 3.\n",
      "2024-11-28 05:10:16,605 [ERROR   ] [151 ][_action.py     ] The dimension is too high to process.\n",
      "2024-11-28 05:10:16,617 [ERROR   ] [151 ][_action.py     ] The total feature dimension (42) is high for polynomial degree 3.\n",
      "2024-11-28 05:10:16,617 [ERROR   ] [151 ][_action.py     ] The dimension is too high to process.\n",
      "2024-11-28 05:10:16,649 [ERROR   ] [151 ][_action.py     ] The total feature dimension (42) is high for polynomial degree 3.\n",
      "2024-11-28 05:10:16,650 [ERROR   ] [151 ][_action.py     ] The dimension is too high to process.\n",
      "2024-11-28 05:10:16,729 [ERROR   ] [151 ][_action.py     ] The total feature dimension (42) is high for polynomial degree 3.\n",
      "2024-11-28 05:10:16,729 [ERROR   ] [151 ][_action.py     ] The dimension is too high to process.\n",
      "2024-11-28 05:10:19,968 [ERROR   ] [151 ][_action.py     ] The total feature dimension (42) is high for polynomial degree 3.\n",
      "2024-11-28 05:10:19,968 [ERROR   ] [151 ][_action.py     ] The dimension is too high to process.\n",
      "2024-11-28 05:10:20,032 [ERROR   ] [151 ][_action.py     ] The total feature dimension (42) is high for polynomial degree 3.\n",
      "2024-11-28 05:10:20,033 [ERROR   ] [151 ][_action.py     ] The dimension is too high to process.\n",
      "2024-11-28 05:10:20,066 [ERROR   ] [151 ][_action.py     ] The total feature dimension (42) is high for polynomial degree 3.\n",
      "2024-11-28 05:10:20,067 [ERROR   ] [151 ][_action.py     ] The dimension is too high to process.\n",
      "2024-11-28 05:10:20,153 [ERROR   ] [151 ][_action.py     ] The total feature dimension (42) is high for polynomial degree 3.\n",
      "2024-11-28 05:10:20,153 [ERROR   ] [151 ][_action.py     ] The dimension is too high to process.\n",
      "2024-11-28 05:10:20,163 [ERROR   ] [151 ][_action.py     ] The total feature dimension (42) is high for polynomial degree 3.\n",
      "2024-11-28 05:10:20,163 [ERROR   ] [151 ][_action.py     ] The dimension is too high to process.\n",
      "2024-11-28 05:10:20,165 [ERROR   ] [151 ][_action.py     ] The total feature dimension (42) is high for polynomial degree 3.\n",
      "2024-11-28 05:10:20,166 [ERROR   ] [151 ][_action.py     ] The dimension is too high to process.\n",
      "2024-11-28 05:10:20,274 [ERROR   ] [151 ][_action.py     ] The total feature dimension (42) is high for polynomial degree 3.\n",
      "2024-11-28 05:10:20,274 [ERROR   ] [151 ][_action.py     ] The dimension is too high to process.\n",
      "2024-11-28 05:10:20,278 [ERROR   ] [151 ][_action.py     ] The total feature dimension (42) is high for polynomial degree 3.\n",
      "2024-11-28 05:10:20,278 [ERROR   ] [151 ][_action.py     ] The dimension is too high to process.\n",
      "2024-11-28 05:10:20,311 [ERROR   ] [151 ][_action.py     ] The total feature dimension (42) is high for polynomial degree 3.\n",
      "2024-11-28 05:10:20,311 [ERROR   ] [151 ][_action.py     ] The dimension is too high to process.\n",
      "/usr/local/lib64/python3.11/site-packages/sklearn/model_selection/_validation.py:425: FitFailedWarning: \n",
      "54 fits failed out of a total of 81.\n",
      "The score on these train-test partitions for these parameters will be set to nan.\n",
      "If these failures are not expected, you can try to debug them by setting error_score='raise'.\n",
      "\n",
      "Below are more details about the failures:\n",
      "--------------------------------------------------------------------------------\n",
      "27 fits failed with the following error:\n",
      "Traceback (most recent call last):\n",
      "  File \"/usr/local/lib64/python3.11/site-packages/sklearn/model_selection/_validation.py\", line 732, in _fit_and_score\n",
      "    estimator.fit(X_train, y_train, **fit_params)\n",
      "  File \"/usr/local/lib64/python3.11/site-packages/sklearn/base.py\", line 1151, in wrapper\n",
      "    return fit_method(estimator, *args, **kwargs)\n",
      "           ^^^^^^^^^^^^^^^^^^^^^^^^^^^^^^^^^^^^^^\n",
      "  File \"/usr/local/lib64/python3.11/site-packages/sklearn/pipeline.py\", line 420, in fit\n",
      "    self._final_estimator.fit(Xt, y, **fit_params_last_step)\n",
      "  File \"/usr/local/lib/python3.11/site-packages/sasviya/ml/svm.py\", line 94, in fit\n",
      "    fit_params, results = super().fit(X, y, nominals)\n",
      "                          ^^^^^^^^^^^^^^^^^^^^^^^^^^^\n",
      "  File \"/usr/local/lib/python3.11/site-packages/sasviya/core/_model.py\", line 877, in fit\n",
      "    fit_params, results = super().fit(X, y, nominals, group_by)\n",
      "                          ^^^^^^^^^^^^^^^^^^^^^^^^^^^^^^^^^^^^^\n",
      "  File \"/usr/local/lib/python3.11/site-packages/sasviya/core/_model.py\", line 323, in fit\n",
      "    results = self._act.run()\n",
      "              ^^^^^^^^^^^^^^^\n",
      "  File \"/usr/local/lib/python3.11/site-packages/sasviya/core/_action.py\", line 98, in run\n",
      "    results = self._run_local(**kwargs)\n",
      "              ^^^^^^^^^^^^^^^^^^^^^^^^^\n",
      "  File \"/usr/local/lib/python3.11/site-packages/sasviya/core/_action.py\", line 159, in _run_local\n",
      "    return self._run_internal(self.actionset, self.action, **kwargs)\n",
      "           ^^^^^^^^^^^^^^^^^^^^^^^^^^^^^^^^^^^^^^^^^^^^^^^^^^^^^^^^^\n",
      "  File \"/usr/local/lib/python3.11/site-packages/sasviya/core/_action.py\", line 154, in _run_internal\n",
      "    Action._check_status(self._status, results)\n",
      "  File \"/usr/local/lib/python3.11/site-packages/sasviya/core/_action.py\", line 771, in _check_status\n",
      "    raise ActionError(status, _msg)\n",
      "sasviya.core._exceptions.ActionError: -1950359395: ERROR: The total feature dimension (42) is high for polynomial degree 3.\n",
      "\n",
      "--------------------------------------------------------------------------------\n",
      "27 fits failed with the following error:\n",
      "Traceback (most recent call last):\n",
      "  File \"/usr/local/lib64/python3.11/site-packages/sklearn/model_selection/_validation.py\", line 732, in _fit_and_score\n",
      "    estimator.fit(X_train, y_train, **fit_params)\n",
      "  File \"/usr/local/lib64/python3.11/site-packages/sklearn/base.py\", line 1151, in wrapper\n",
      "    return fit_method(estimator, *args, **kwargs)\n",
      "           ^^^^^^^^^^^^^^^^^^^^^^^^^^^^^^^^^^^^^^\n",
      "  File \"/usr/local/lib64/python3.11/site-packages/sklearn/pipeline.py\", line 420, in fit\n",
      "    self._final_estimator.fit(Xt, y, **fit_params_last_step)\n",
      "  File \"/usr/local/lib/python3.11/site-packages/sasviya/ml/svm.py\", line 91, in fit\n",
      "    self._update_params(fit_params)\n",
      "  File \"/usr/local/lib/python3.11/site-packages/sasviya/ml/svm.py\", line 241, in _update_params\n",
      "    raise ValueError(\n",
      "ValueError: Only the 'activeset' method is supported when using a polynomial kernel with degree > 3.\n",
      "\n",
      "  warnings.warn(some_fits_failed_message, FitFailedWarning)\n",
      "/usr/local/lib64/python3.11/site-packages/sklearn/model_selection/_search.py:976: UserWarning: One or more of the test scores are non-finite: [-320.76405625 -320.86518917 -320.81082664           nan           nan\n",
      "           nan           nan           nan           nan -365.49280988\n",
      " -365.22841327 -365.53567869           nan           nan           nan\n",
      "           nan           nan           nan -549.30576983 -548.97785146\n",
      " -547.50512267           nan           nan           nan           nan\n",
      "           nan           nan]\n",
      "  warnings.warn(\n"
     ]
    },
    {
     "name": "stdout",
     "output_type": "stream",
     "text": [
      "Best parameters: {'regressor__C': 0.1, 'regressor__degree': 2, 'regressor__epsilon': 0.01}\n",
      "Best cross-validation score (neg MSE): -320.76405625380147\n"
     ]
    }
   ],
   "source": [
    "# Define the SVR model\n",
    "sas_svr = sas_SVR(kernel='poly', random_state=42)\n",
    "\n",
    "# Set up the parameter grid\n",
    "param_grid = {\n",
    "    'regressor__C': [0.1, 1.0, 10.0],\n",
    "    'regressor__epsilon': [0.01, 0.1, 0.2],\n",
    "    'regressor__degree': [2, 3, 4],  # Only relevant for polynomial kernel\n",
    "}\n",
    "\n",
    "# Set up GridSearchCV\n",
    "grid_search = GridSearchCV(\n",
    "    estimator=Pipeline([\n",
    "        ('scaler', StandardScaler()),\n",
    "        ('regressor', sas_svr)\n",
    "    ]),\n",
    "    param_grid=param_grid,\n",
    "    scoring='neg_mean_squared_error',\n",
    "    cv=3,\n",
    "    verbose=1,\n",
    "    n_jobs=-1  # Use all available cores\n",
    ")\n",
    "\n",
    "# Fit the grid search\n",
    "grid_search.fit(X_train, y_train) # using not selected features\n",
    "\n",
    "# Display the best parameters and best score\n",
    "print(f\"Best parameters: {grid_search.best_params_}\")\n",
    "print(f\"Best cross-validation score (neg MSE): {grid_search.best_score_}\")"
   ]
  },
  {
   "cell_type": "code",
   "execution_count": 32,
   "id": "943c91f3-f8cf-4db6-bb5f-5d5f0b8d2e09",
   "metadata": {},
   "outputs": [
    {
     "name": "stdout",
     "output_type": "stream",
     "text": [
      "Regressor: Pipeline\n",
      "Mean Absolute Error: 12.29\n",
      "Mean Squared Error: 275.26\n",
      "R² Score: 0.98\n",
      "Time elapsed: 0.64 seconds\n"
     ]
    }
   ],
   "source": [
    "create_and_evaluate_pipeline(X_train, X_test, y_train, y_test, \n",
    "                             grid_search.best_estimator_)"
   ]
  },
  {
   "cell_type": "markdown",
   "id": "0e004641-8208-4d6a-825a-f21009208991",
   "metadata": {},
   "source": [
    "Best model is the SAS SVR model before PCA. Model tuning slightly reduced the MSE and sped up compute time, but MAE increased and no imporvement to R^2.\n",
    "\n",
    "Might see if SAS's GB model can have better performance post-tuning."
   ]
  },
  {
   "cell_type": "markdown",
   "id": "6090c5e4-18e1-4814-bec8-d8dd955dc7bc",
   "metadata": {},
   "source": [
    "## Model Deployment\n",
    "\n",
    "Push the model back to Viya platform for deployment and goverance thereafter."
   ]
  },
  {
   "cell_type": "code",
   "execution_count": 33,
   "id": "6ea425e9-115c-48ed-aba2-c19cb1e5dbbc",
   "metadata": {},
   "outputs": [],
   "source": [
    "name = \"tztsai\""
   ]
  },
  {
   "cell_type": "code",
   "execution_count": 41,
   "id": "57e8a30b",
   "metadata": {},
   "outputs": [
    {
     "data": {
      "text/html": [
       "<style>#sk-container-id-2 {color: black;}#sk-container-id-2 pre{padding: 0;}#sk-container-id-2 div.sk-toggleable {background-color: white;}#sk-container-id-2 label.sk-toggleable__label {cursor: pointer;display: block;width: 100%;margin-bottom: 0;padding: 0.3em;box-sizing: border-box;text-align: center;}#sk-container-id-2 label.sk-toggleable__label-arrow:before {content: \"▸\";float: left;margin-right: 0.25em;color: #696969;}#sk-container-id-2 label.sk-toggleable__label-arrow:hover:before {color: black;}#sk-container-id-2 div.sk-estimator:hover label.sk-toggleable__label-arrow:before {color: black;}#sk-container-id-2 div.sk-toggleable__content {max-height: 0;max-width: 0;overflow: hidden;text-align: left;background-color: #f0f8ff;}#sk-container-id-2 div.sk-toggleable__content pre {margin: 0.2em;color: black;border-radius: 0.25em;background-color: #f0f8ff;}#sk-container-id-2 input.sk-toggleable__control:checked~div.sk-toggleable__content {max-height: 200px;max-width: 100%;overflow: auto;}#sk-container-id-2 input.sk-toggleable__control:checked~label.sk-toggleable__label-arrow:before {content: \"▾\";}#sk-container-id-2 div.sk-estimator input.sk-toggleable__control:checked~label.sk-toggleable__label {background-color: #d4ebff;}#sk-container-id-2 div.sk-label input.sk-toggleable__control:checked~label.sk-toggleable__label {background-color: #d4ebff;}#sk-container-id-2 input.sk-hidden--visually {border: 0;clip: rect(1px 1px 1px 1px);clip: rect(1px, 1px, 1px, 1px);height: 1px;margin: -1px;overflow: hidden;padding: 0;position: absolute;width: 1px;}#sk-container-id-2 div.sk-estimator {font-family: monospace;background-color: #f0f8ff;border: 1px dotted black;border-radius: 0.25em;box-sizing: border-box;margin-bottom: 0.5em;}#sk-container-id-2 div.sk-estimator:hover {background-color: #d4ebff;}#sk-container-id-2 div.sk-parallel-item::after {content: \"\";width: 100%;border-bottom: 1px solid gray;flex-grow: 1;}#sk-container-id-2 div.sk-label:hover label.sk-toggleable__label {background-color: #d4ebff;}#sk-container-id-2 div.sk-serial::before {content: \"\";position: absolute;border-left: 1px solid gray;box-sizing: border-box;top: 0;bottom: 0;left: 50%;z-index: 0;}#sk-container-id-2 div.sk-serial {display: flex;flex-direction: column;align-items: center;background-color: white;padding-right: 0.2em;padding-left: 0.2em;position: relative;}#sk-container-id-2 div.sk-item {position: relative;z-index: 1;}#sk-container-id-2 div.sk-parallel {display: flex;align-items: stretch;justify-content: center;background-color: white;position: relative;}#sk-container-id-2 div.sk-item::before, #sk-container-id-2 div.sk-parallel-item::before {content: \"\";position: absolute;border-left: 1px solid gray;box-sizing: border-box;top: 0;bottom: 0;left: 50%;z-index: -1;}#sk-container-id-2 div.sk-parallel-item {display: flex;flex-direction: column;z-index: 1;position: relative;background-color: white;}#sk-container-id-2 div.sk-parallel-item:first-child::after {align-self: flex-end;width: 50%;}#sk-container-id-2 div.sk-parallel-item:last-child::after {align-self: flex-start;width: 50%;}#sk-container-id-2 div.sk-parallel-item:only-child::after {width: 0;}#sk-container-id-2 div.sk-dashed-wrapped {border: 1px dashed gray;margin: 0 0.4em 0.5em 0.4em;box-sizing: border-box;padding-bottom: 0.4em;background-color: white;}#sk-container-id-2 div.sk-label label {font-family: monospace;font-weight: bold;display: inline-block;line-height: 1.2em;}#sk-container-id-2 div.sk-label-container {text-align: center;}#sk-container-id-2 div.sk-container {/* jupyter's `normalize.less` sets `[hidden] { display: none; }` but bootstrap.min.css set `[hidden] { display: none !important; }` so we also need the `!important` here to be able to override the default hidden behavior on the sphinx rendered scikit-learn.org. See: https://github.com/scikit-learn/scikit-learn/issues/21755 */display: inline-block !important;position: relative;}#sk-container-id-2 div.sk-text-repr-fallback {display: none;}</style><div id=\"sk-container-id-2\" class=\"sk-top-container\"><div class=\"sk-text-repr-fallback\"><pre>Pipeline(steps=[(&#x27;scaler&#x27;, StandardScaler()),\n",
       "                (&#x27;regressor&#x27;, SVR(kernel=&quot;poly&quot;, epsilon=0.1))])</pre><b>In a Jupyter environment, please rerun this cell to show the HTML representation or trust the notebook. <br />On GitHub, the HTML representation is unable to render, please try loading this page with nbviewer.org.</b></div><div class=\"sk-container\" hidden><div class=\"sk-item sk-dashed-wrapped\"><div class=\"sk-label-container\"><div class=\"sk-label sk-toggleable\"><input class=\"sk-toggleable__control sk-hidden--visually\" id=\"sk-estimator-id-4\" type=\"checkbox\" ><label for=\"sk-estimator-id-4\" class=\"sk-toggleable__label sk-toggleable__label-arrow\">Pipeline</label><div class=\"sk-toggleable__content\"><pre>Pipeline(steps=[(&#x27;scaler&#x27;, StandardScaler()),\n",
       "                (&#x27;regressor&#x27;, SVR(kernel=&quot;poly&quot;, epsilon=0.1))])</pre></div></div></div><div class=\"sk-serial\"><div class=\"sk-item\"><div class=\"sk-estimator sk-toggleable\"><input class=\"sk-toggleable__control sk-hidden--visually\" id=\"sk-estimator-id-5\" type=\"checkbox\" ><label for=\"sk-estimator-id-5\" class=\"sk-toggleable__label sk-toggleable__label-arrow\">StandardScaler</label><div class=\"sk-toggleable__content\"><pre>StandardScaler()</pre></div></div></div><div class=\"sk-item\"><div class=\"sk-estimator sk-toggleable\"><input class=\"sk-toggleable__control sk-hidden--visually\" id=\"sk-estimator-id-6\" type=\"checkbox\" ><label for=\"sk-estimator-id-6\" class=\"sk-toggleable__label sk-toggleable__label-arrow\">SVR</label><div class=\"sk-toggleable__content\"><pre>SVR(kernel=&quot;poly&quot;, epsilon=0.1)</pre></div></div></div></div></div></div></div>"
      ],
      "text/plain": [
       "Pipeline(steps=[('scaler', StandardScaler()),\n",
       "                ('regressor', SVR(kernel=\"poly\", epsilon=0.1))])"
      ]
     },
     "execution_count": 41,
     "metadata": {},
     "output_type": "execute_result"
    }
   ],
   "source": [
    "# best performing model\n",
    "regressor = sas_SVR(kernel='poly', C=1.0, epsilon=0.1)\n",
    "\n",
    "# Create the pipeline with the specified regressor\n",
    "wb_model = Pipeline([\n",
    "    ('scaler', StandardScaler()),  # Standardizing the data\n",
    "    ('regressor', regressor)        # The regressor passed as an argument\n",
    "])\n",
    "# Fit the model\n",
    "wb_model.fit(X_train, y_train)"
   ]
  },
  {
   "cell_type": "code",
   "execution_count": 49,
   "id": "07e7f46b",
   "metadata": {},
   "outputs": [
    {
     "data": {
      "text/plain": [
       "SVR(kernel=\"poly\", epsilon=0.1)"
      ]
     },
     "execution_count": 49,
     "metadata": {},
     "output_type": "execute_result"
    }
   ],
   "source": [
    "wb_model = sas_SVR(kernel='poly', C=1.0, epsilon=0.1)\n",
    "# Fit the model\n",
    "wb_model.fit(X_train, y_train)"
   ]
  },
  {
   "cell_type": "code",
   "execution_count": 35,
   "id": "f25c0dcb",
   "metadata": {},
   "outputs": [
    {
     "name": "stderr",
     "output_type": "stream",
     "text": [
      "/usr/local/lib/python3.11/site-packages/urllib3/connectionpool.py:1103: InsecureRequestWarning: Unverified HTTPS request is being made to host 'apgtps2demo.gtp.unx.sas.com'. Adding certificate verification is strongly advised. See: https://urllib3.readthedocs.io/en/latest/advanced-usage.html#tls-warnings\n",
      "  warnings.warn(\n"
     ]
    }
   ],
   "source": [
    "## get access token for viya env using refresh token. change to your own viya server and preferred authentication method.\n",
    "url = \"https://apgtps2demo.gtp.unx.sas.com\"\n",
    "auth_url = f\"{url}/SASLogon/oauth/token\"\n",
    "## reading long-lived refresh token from txt file\n",
    "refresh_token = Path(f'/workspaces/{os.environ[\"DEFAULT_MOUNTNAME\"]}/Census_Project/apgtps2demo_refresh_token.txt').read_text().replace('\\n', '')\n",
    "\n",
    "payload=f'grant_type=refresh_token&refresh_token={refresh_token}'\n",
    "headers = {\n",
    "  'Accept': 'application/json',\n",
    "  'Content-Type': 'application/x-www-form-urlencoded',\n",
    "  'Authorization': 'Basic c2FzLmNsaTo=',\n",
    "}\n",
    "\n",
    "response = requests.request(\"POST\", auth_url, headers=headers, data=payload, verify=False)\n",
    "access_token = response.json()['access_token']"
   ]
  },
  {
   "cell_type": "code",
   "execution_count": 36,
   "id": "d8bdbbfa",
   "metadata": {},
   "outputs": [
    {
     "data": {
      "text/plain": [
       "<sasctl.core.Session at 0x7fa00f83a950>"
      ]
     },
     "execution_count": 36,
     "metadata": {},
     "output_type": "execute_result"
    }
   ],
   "source": [
    "st = Session(\"https://apgtps2demo.gtp.unx.sas.com\", token=access_token, verify_ssl=False)\n",
    "st"
   ]
  },
  {
   "cell_type": "code",
   "execution_count": 37,
   "id": "bcbbed39",
   "metadata": {},
   "outputs": [],
   "source": [
    "project_name = \"CBR WorkshopWorkbench HandsOn \"+name"
   ]
  },
  {
   "cell_type": "code",
   "execution_count": 45,
   "id": "2bc6e9e2",
   "metadata": {},
   "outputs": [
    {
     "name": "stdout",
     "output_type": "stream",
     "text": [
      "Created a new project!\n"
     ]
    }
   ],
   "source": [
    "## Create a project\n",
    "try:\n",
    "    repository = mr.get_repository('DMRepository')\n",
    "    # repository.name\n",
    "    project_create = mr.create_project(\n",
    "        {\n",
    "        'name':project_name,\n",
    "        'description':'CBR WB Hands-on Exercise',\n",
    "        'function':'classification',\n",
    "        'targetLevel':'binary',\n",
    "        },\n",
    "        repository\n",
    "    )\n",
    "    print(\"Created a new project!\")\n",
    "    project = mr.get_project(project_name)\n",
    "except:\n",
    "    print(\"Retrieving already created project\")\n",
    "    project = mr.get_project(project_name)"
   ]
  },
  {
   "cell_type": "code",
   "execution_count": 39,
   "id": "0d8e651e",
   "metadata": {},
   "outputs": [],
   "source": [
    "def register_model(model_name, model, project):\n",
    "    model_params = {\n",
    "        \"name\": model_name,\n",
    "        \"projectId\": project.id,\n",
    "        \"type\": \"ASTORE\",\n",
    "    }\n",
    "    astore = mr.post(\n",
    "        \"/models\",\n",
    "        files={\"files\": (f\"{model_name}.astore\", model.export())},\n",
    "        data=model_params,\n",
    "    )\n",
    "    print(astore)"
   ]
  },
  {
   "cell_type": "code",
   "execution_count": 51,
   "id": "4f16aa82",
   "metadata": {},
   "outputs": [
    {
     "name": "stdout",
     "output_type": "stream",
     "text": [
      "MyModel tztsai\n"
     ]
    }
   ],
   "source": [
    "# Model Registration\n",
    "register_model(\"MyModel \"+name, wb_model, project) #This is only pure sas model, find out how to register .pkl files"
   ]
  }
 ],
 "metadata": {
  "kernelspec": {
   "display_name": "Workbench Python",
   "language": "python",
   "name": "workbench_python"
  },
  "language_info": {
   "codemirror_mode": {
    "name": "ipython",
    "version": 3
   },
   "file_extension": ".py",
   "mimetype": "text/x-python",
   "name": "python",
   "nbconvert_exporter": "python",
   "pygments_lexer": "ipython3",
   "version": "3.11.9"
  }
 },
 "nbformat": 4,
 "nbformat_minor": 5
}
